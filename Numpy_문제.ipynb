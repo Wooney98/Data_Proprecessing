{
  "nbformat": 4,
  "nbformat_minor": 0,
  "metadata": {
    "colab": {
      "provenance": [],
      "collapsed_sections": []
    },
    "kernelspec": {
      "name": "python3",
      "display_name": "Python 3"
    },
    "language_info": {
      "name": "python"
    }
  },
  "cells": [
    {
      "cell_type": "code",
      "source": [
        "import numpy as np"
      ],
      "metadata": {
        "id": "o9gzo0Abhjrc"
      },
      "execution_count": 53,
      "outputs": []
    },
    {
      "cell_type": "markdown",
      "source": [
        "## 1. MAE 와 RMSE 함수 구현하기\n",
        "- 다음과 같이 실제 값과 , 모델이 예측한 값이 각각 100개가 있다.\n",
        "- 실제값과 예측값 사이에 평균 오차를 구하는 함수 두개를 구현해보자."
      ],
      "metadata": {
        "id": "aEhJCFMRS95r"
      }
    },
    {
      "cell_type": "code",
      "source": [
        "np.random.seed(42) \n",
        "target = np.random.randint(50, 91,100) # 정답값\n",
        "pred = np.random.randint(40, 100,100) # 예측값\n",
        "target , pred"
      ],
      "metadata": {
        "colab": {
          "base_uri": "https://localhost:8080/"
        },
        "id": "0t14ldOQS9YI",
        "outputId": "56e9ce19-09d0-4fd1-a7cb-9401aa2bca45"
      },
      "execution_count": 54,
      "outputs": [
        {
          "output_type": "execute_result",
          "data": {
            "text/plain": [
              "(array([88, 78, 64, 57, 70, 88, 68, 72, 60, 60, 73, 85, 89, 73, 52, 71, 51,\n",
              "        73, 79, 87, 51, 70, 82, 61, 71, 74, 76, 77, 65, 64, 52, 86, 56, 70,\n",
              "        58, 88, 67, 53, 74, 63, 58, 75, 51, 69, 77, 56, 57, 84, 63, 66, 85,\n",
              "        89, 53, 51, 55, 53, 78, 67, 75, 83, 59, 85, 63, 80, 64, 57, 63, 72,\n",
              "        89, 70, 65, 67, 73, 75, 74, 90, 78, 64, 50, 74, 56, 58, 73, 50, 57,\n",
              "        73, 60, 66, 57, 84, 84, 82, 54, 88, 90, 77, 56, 58, 57, 61]),\n",
              " array([73, 72, 87, 94, 62, 63, 76, 74, 83, 79, 61, 66, 74, 40, 74, 76, 86,\n",
              "        53, 42, 40, 44, 65, 94, 53, 78, 66, 48, 54, 54, 65, 81, 99, 52, 90,\n",
              "        71, 78, 88, 91, 71, 43, 69, 76, 62, 78, 84, 54, 82, 68, 75, 52, 71,\n",
              "        46, 98, 90, 61, 67, 41, 81, 84, 96, 92, 45, 67, 67, 83, 83, 59, 69,\n",
              "        50, 97, 94, 67, 64, 78, 72, 40, 96, 66, 96, 91, 52, 80, 42, 78, 45,\n",
              "        47, 66, 48, 76, 72, 90, 81, 83, 63, 54, 98, 93, 71, 71, 63]))"
            ]
          },
          "metadata": {},
          "execution_count": 54
        }
      ]
    },
    {
      "cell_type": "markdown",
      "source": [
        "### MAE(Mean Absolute Error)\n",
        "- 실제 값과 예측 값의 차이를 절대값으로 변환해 평균화\n",
        "$$\n",
        "MAE = \\frac{1}{n}{\\sum_{i=1}^{n}|y_i-\\hat{y}_i|}\n",
        "$$"
      ],
      "metadata": {
        "id": "PBBS3Qt9ROIz"
      }
    },
    {
      "cell_type": "markdown",
      "source": [
        "```\n",
        "아래 셀의 코드 작성하여 함수구현\n",
        "```"
      ],
      "metadata": {
        "id": "C1vCrd7TvYSZ"
      }
    },
    {
      "cell_type": "code",
      "source": [
        "def mae(target,pred):\n",
        "    return np.abs(np.subtract(pred,target)).mean()\n",
        "mae(target,pred)"
      ],
      "metadata": {
        "id": "caLC8QcaRara",
        "colab": {
          "base_uri": "https://localhost:8080/"
        },
        "outputId": "f21de05d-aa79-4b76-b166-6bc62172327c"
      },
      "execution_count": 55,
      "outputs": [
        {
          "output_type": "execute_result",
          "data": {
            "text/plain": [
              "17.8"
            ]
          },
          "metadata": {},
          "execution_count": 55
        }
      ]
    },
    {
      "cell_type": "markdown",
      "source": [
        "### RMSE(Root Mean Squared Error)\n",
        "- 실제 값과 예측 값의 차이를 제곱한 뒤 평균화한 후에 루트\n",
        "\n",
        "$$\n",
        "RMSE = \\sqrt{\\frac{1}{n}{\\sum_{i=1}^{n}(y_i-\\hat{y}_i)^2}}\n",
        "$$"
      ],
      "metadata": {
        "id": "KEeEls66Sawv"
      }
    },
    {
      "cell_type": "markdown",
      "source": [
        "```\n",
        "아래 셀의 코드 작성하여 함수구현\n",
        "```"
      ],
      "metadata": {
        "id": "DUB30_N6vcWY"
      }
    },
    {
      "cell_type": "code",
      "source": [
        "def rmse(target,pred):\n",
        "    return np.sqrt(((pred - target) ** 2).mean())\n",
        "rmse(target,pred)"
      ],
      "metadata": {
        "id": "Pbo4lA9mUlLj",
        "colab": {
          "base_uri": "https://localhost:8080/"
        },
        "outputId": "02329d1b-1965-4c40-c92b-31d6c716458b"
      },
      "execution_count": 56,
      "outputs": [
        {
          "output_type": "execute_result",
          "data": {
            "text/plain": [
              "21.829796151132516"
            ]
          },
          "metadata": {},
          "execution_count": 56
        }
      ]
    },
    {
      "cell_type": "markdown",
      "source": [
        "## 2.시그모이드 함수 구현하기\n",
        "- S와 같은 형태로 미분 가능한 0~1 사이의 값을 반환한다.\n",
        "- 이진 분류에 출력 함수로 사용된다.\n",
        "$$\n",
        "y = \\frac{1}{1+e^{-x}}\n",
        "$$"
      ],
      "metadata": {
        "id": "aF2XoKeNT5S4"
      }
    },
    {
      "cell_type": "markdown",
      "source": [
        "- x 변수에 있는 배열의 요소들을 시그모이드 함수에 넣어 0 ~ 1 사이 값들로 변경하시오."
      ],
      "metadata": {
        "id": "selxiMc0WHvf"
      }
    },
    {
      "cell_type": "code",
      "source": [
        "np.random.seed(42)\n",
        "x = np.random.randint(-10,10,10)\n",
        "x"
      ],
      "metadata": {
        "colab": {
          "base_uri": "https://localhost:8080/"
        },
        "id": "tNaYDclXU1FQ",
        "outputId": "33317520-b14f-4332-fde9-f4dc6196c3c4"
      },
      "execution_count": 57,
      "outputs": [
        {
          "output_type": "execute_result",
          "data": {
            "text/plain": [
              "array([-4,  9,  4,  0, -3, -4,  8,  0,  0, -7])"
            ]
          },
          "metadata": {},
          "execution_count": 57
        }
      ]
    },
    {
      "cell_type": "markdown",
      "source": [
        "```\n",
        "아래 셀의 코드 작성하여 함수구현\n",
        "```"
      ],
      "metadata": {
        "id": "P1JSVLjkvjGI"
      }
    },
    {
      "cell_type": "code",
      "source": [
        "def sigmoid(x):\n",
        "    return 1/(1+np.exp(-x))\n",
        "sigmoid(x)"
      ],
      "metadata": {
        "id": "NOebxqIgWT-V",
        "colab": {
          "base_uri": "https://localhost:8080/"
        },
        "outputId": "48dd925d-6968-491e-d197-c8bc815e16e0"
      },
      "execution_count": 58,
      "outputs": [
        {
          "output_type": "execute_result",
          "data": {
            "text/plain": [
              "array([1.79862100e-02, 9.99876605e-01, 9.82013790e-01, 5.00000000e-01,\n",
              "       4.74258732e-02, 1.79862100e-02, 9.99664650e-01, 5.00000000e-01,\n",
              "       5.00000000e-01, 9.11051194e-04])"
            ]
          },
          "metadata": {},
          "execution_count": 58
        }
      ]
    },
    {
      "cell_type": "markdown",
      "source": [
        "## 3.다음의 3행 2열형태의 배열에서 두개 열 위치를 바꾸시오."
      ],
      "metadata": {
        "id": "Ab_9YKUxdFax"
      }
    },
    {
      "cell_type": "code",
      "source": [
        "np.random.seed(42)\n",
        "arr = np.random.randint(50,100,[3,2])\n",
        "arr"
      ],
      "metadata": {
        "colab": {
          "base_uri": "https://localhost:8080/"
        },
        "id": "sQi65gDcWqx8",
        "outputId": "3c47bd41-53b6-47a8-fbb8-40c02dde5d50"
      },
      "execution_count": 59,
      "outputs": [
        {
          "output_type": "execute_result",
          "data": {
            "text/plain": [
              "array([[88, 78],\n",
              "       [64, 92],\n",
              "       [57, 70]])"
            ]
          },
          "metadata": {},
          "execution_count": 59
        }
      ]
    },
    {
      "cell_type": "markdown",
      "source": [
        "```\n",
        "아래 셀의 코드 작성\n",
        "```"
      ],
      "metadata": {
        "id": "1eyIloMHvlqA"
      }
    },
    {
      "cell_type": "code",
      "source": [
        "np.fliplr(arr)"
      ],
      "metadata": {
        "id": "kJLGkIEIvnMN",
        "colab": {
          "base_uri": "https://localhost:8080/"
        },
        "outputId": "e8d5d399-225d-463c-d653-eaf1ad3d23e1"
      },
      "execution_count": 60,
      "outputs": [
        {
          "output_type": "execute_result",
          "data": {
            "text/plain": [
              "array([[78, 88],\n",
              "       [92, 64],\n",
              "       [70, 57]])"
            ]
          },
          "metadata": {},
          "execution_count": 60
        }
      ]
    },
    {
      "cell_type": "markdown",
      "source": [
        "- 강사님 코드"
      ],
      "metadata": {
        "id": "zR9oWXaQWXrh"
      }
    },
    {
      "cell_type": "code",
      "source": [
        "arr[:,[1,0]]"
      ],
      "metadata": {
        "colab": {
          "base_uri": "https://localhost:8080/"
        },
        "id": "kRIJbcw9VqVF",
        "outputId": "c7f7d37b-ed3a-4593-e75f-6c1d56cb4d87"
      },
      "execution_count": 61,
      "outputs": [
        {
          "output_type": "execute_result",
          "data": {
            "text/plain": [
              "array([[78, 88],\n",
              "       [92, 64],\n",
              "       [70, 57]])"
            ]
          },
          "metadata": {},
          "execution_count": 61
        }
      ]
    },
    {
      "cell_type": "markdown",
      "source": [
        "## 4.다음의 배열에서 각행의 평균을 구하시오."
      ],
      "metadata": {
        "id": "ZysL5grLeo--"
      }
    },
    {
      "cell_type": "code",
      "source": [
        "np.random.seed(42) \n",
        "arr = np.random.randint(50, 101, (4, 3))\n",
        "arr"
      ],
      "metadata": {
        "colab": {
          "base_uri": "https://localhost:8080/"
        },
        "id": "DCeY-c5oenSe",
        "outputId": "e9d0a5f3-9884-4a25-9925-19fca3f02ae6"
      },
      "execution_count": 62,
      "outputs": [
        {
          "output_type": "execute_result",
          "data": {
            "text/plain": [
              "array([[88, 78, 64],\n",
              "       [92, 57, 70],\n",
              "       [88, 68, 72],\n",
              "       [60, 60, 73]])"
            ]
          },
          "metadata": {},
          "execution_count": 62
        }
      ]
    },
    {
      "cell_type": "markdown",
      "source": [
        "```\n",
        "아래 셀의 코드 작성\n",
        "```"
      ],
      "metadata": {
        "id": "L4dirV_tvqPO"
      }
    },
    {
      "cell_type": "code",
      "source": [
        "arr.mean(axis=1)"
      ],
      "metadata": {
        "id": "omnfUOUvvqjn",
        "colab": {
          "base_uri": "https://localhost:8080/"
        },
        "outputId": "d9f19e8d-66cc-46f4-996a-03646ec91aee"
      },
      "execution_count": 63,
      "outputs": [
        {
          "output_type": "execute_result",
          "data": {
            "text/plain": [
              "array([76.66666667, 73.        , 76.        , 64.33333333])"
            ]
          },
          "metadata": {},
          "execution_count": 63
        }
      ]
    },
    {
      "cell_type": "markdown",
      "source": [
        "## 데이터 설명\n",
        "- 다음은 2021년 삼성주식 데이터이다\n",
        "- 시계열 학습이 가능한 형태로 변환되어있다.\n",
        "- 행마다 10일치의 시작가 ,상한가 , 하한가, 종가 에 대한 행렬이 들어가 있다."
      ],
      "metadata": {
        "id": "K7lnDWda_nsJ"
      }
    },
    {
      "cell_type": "code",
      "source": [
        "samsung_stock_3d = np.load(\"samsung_stock_2021_3d.npy\")\n",
        "samsung_stock_3d.shape"
      ],
      "metadata": {
        "colab": {
          "base_uri": "https://localhost:8080/"
        },
        "id": "rDE8ZXBE2NHX",
        "outputId": "23499f74-6b68-49b1-a001-c3aa0b12ae52"
      },
      "execution_count": 64,
      "outputs": [
        {
          "output_type": "execute_result",
          "data": {
            "text/plain": [
              "(234, 10, 4)"
            ]
          },
          "metadata": {},
          "execution_count": 64
        }
      ]
    },
    {
      "cell_type": "markdown",
      "source": [
        "- 한행을 보면 2차원 행렬 형태로 되어있다. \n",
        "    - 행은 일자 \n",
        "    - 열은 시작가,상한가,하한가,종가 순"
      ],
      "metadata": {
        "id": "6B1S6bJajYJL"
      }
    },
    {
      "cell_type": "code",
      "source": [
        "samsung_stock_3d[0] "
      ],
      "metadata": {
        "colab": {
          "base_uri": "https://localhost:8080/"
        },
        "id": "-rv51Hdv2NEP",
        "outputId": "54c59397-1eab-4039-b62a-b1f820522214"
      },
      "execution_count": 65,
      "outputs": [
        {
          "output_type": "execute_result",
          "data": {
            "text/plain": [
              "array([[81000, 84400, 80200, 83000],\n",
              "       [81600, 83900, 81600, 83900],\n",
              "       [83300, 84500, 82100, 82200],\n",
              "       [82800, 84200, 82700, 82900],\n",
              "       [83300, 90000, 83000, 88800],\n",
              "       [90000, 96800, 89500, 91000],\n",
              "       [90300, 91400, 87800, 90600],\n",
              "       [89800, 91200, 89100, 89700],\n",
              "       [88700, 90000, 88700, 89700],\n",
              "       [89800, 91800, 88000, 88000]])"
            ]
          },
          "metadata": {},
          "execution_count": 65
        }
      ]
    },
    {
      "cell_type": "markdown",
      "source": [
        "## 머신러닝 모델에서 학습이 가능하게 2차원 형태로 변경해보자..\n"
      ],
      "metadata": {
        "id": "nTwDfZmpAHa-"
      }
    },
    {
      "cell_type": "markdown",
      "source": [
        "## 5.각 행의 행렬을 벡터 형태로 변환하여 데이터셋을 2차원형태로 변경해보세요.\n",
        "- 출력 데이터셋의 shape -> (234,40)"
      ],
      "metadata": {
        "id": "WlgNgajKAPE8"
      }
    },
    {
      "cell_type": "markdown",
      "source": [
        "```\n",
        "아래 셀의 코드 작성\n",
        "```"
      ],
      "metadata": {
        "id": "vdIqwPJ1v4jv"
      }
    },
    {
      "cell_type": "code",
      "source": [
        "arr = samsung_stock_3d\n",
        "newarr = arr.reshape(arr.shape[0], (arr.shape[1]*arr.shape[2]))\n",
        "newarr.shape"
      ],
      "metadata": {
        "id": "c2ztloYXv43v",
        "colab": {
          "base_uri": "https://localhost:8080/"
        },
        "outputId": "e32773b0-07be-43a4-e4be-e59908de6c95"
      },
      "execution_count": 66,
      "outputs": [
        {
          "output_type": "execute_result",
          "data": {
            "text/plain": [
              "(234, 40)"
            ]
          },
          "metadata": {},
          "execution_count": 66
        }
      ]
    },
    {
      "cell_type": "markdown",
      "source": [
        "- 강사님 코드"
      ],
      "metadata": {
        "id": "RAIblQuSWUuW"
      }
    },
    {
      "cell_type": "code",
      "source": [
        "samsung_stock_3d.reshape(samsung_stock_3d.shape[0],-1)"
      ],
      "metadata": {
        "colab": {
          "base_uri": "https://localhost:8080/"
        },
        "id": "DOi9skrEV-YM",
        "outputId": "31c5e2f7-675b-4983-8e7c-efb28f66d854"
      },
      "execution_count": 67,
      "outputs": [
        {
          "output_type": "execute_result",
          "data": {
            "text/plain": [
              "array([[81000, 84400, 80200, ..., 91800, 88000, 88000],\n",
              "       [81600, 83900, 81600, ..., 87300, 84100, 85000],\n",
              "       [83300, 84500, 82100, ..., 88000, 83600, 87000],\n",
              "       ...,\n",
              "       [78300, 78600, 77100, ..., 78300, 77500, 78100],\n",
              "       [77400, 78200, 77000, ..., 79400, 78800, 79400],\n",
              "       [77400, 77600, 76800, ..., 80000, 79300, 79900]])"
            ]
          },
          "metadata": {},
          "execution_count": 67
        }
      ]
    },
    {
      "cell_type": "code",
      "source": [
        "import pandas as pd\n",
        "import numpy as np\n",
        "\n",
        "df = pd.DataFrame(newarr)\n",
        "df"
      ],
      "metadata": {
        "colab": {
          "base_uri": "https://localhost:8080/",
          "height": 423
        },
        "id": "Ro-Kbnb043Wa",
        "outputId": "d8527013-c504-472e-d623-5348da1e98de"
      },
      "execution_count": 68,
      "outputs": [
        {
          "output_type": "execute_result",
          "data": {
            "text/plain": [
              "        0      1      2      3      4      5      6      7      8      9   \\\n",
              "0    81000  84400  80200  83000  81600  83900  81600  83900  83300  84500   \n",
              "1    81600  83900  81600  83900  83300  84500  82100  82200  82800  84200   \n",
              "2    83300  84500  82100  82200  82800  84200  82700  82900  83300  90000   \n",
              "3    82800  84200  82700  82900  83300  90000  83000  88800  90000  96800   \n",
              "4    83300  90000  83000  88800  90000  96800  89500  91000  90300  91400   \n",
              "..     ...    ...    ...    ...    ...    ...    ...    ...    ...    ...   \n",
              "229  75100  76700  74900  76300  76100  77700  75600  77400  78300  78600   \n",
              "230  76100  77700  75600  77400  78300  78600  77100  77400  77400  78200   \n",
              "231  78300  78600  77100  77400  77400  78200  77000  78200  77400  77600   \n",
              "232  77400  78200  77000  78200  77400  77600  76800  76900  77200  78300   \n",
              "233  77400  77600  76800  76900  77200  78300  76500  76800  76500  77200   \n",
              "\n",
              "     ...     30     31     32     33     34     35     36     37     38     39  \n",
              "0    ...  89100  89700  88700  90000  88700  89700  89800  91800  88000  88000  \n",
              "1    ...  88700  89700  89800  91800  88000  88000  86600  87300  84100  85000  \n",
              "2    ...  88000  88000  86600  87300  84100  85000  84500  88000  83600  87000  \n",
              "3    ...  84100  85000  84500  88000  83600  87000  89000  89000  86500  87200  \n",
              "4    ...  83600  87000  89000  89000  86500  87200  87500  88600  86500  88100  \n",
              "..   ...    ...    ...    ...    ...    ...    ...    ...    ...    ...    ...  \n",
              "229  ...  76300  77600  78500  78500  77400  77800  76800  78000  76800  78000  \n",
              "230  ...  77400  77800  76800  78000  76800  78000  77600  77800  76800  77100  \n",
              "231  ...  76800  78000  77600  77800  76800  77100  77900  78300  77500  78100  \n",
              "232  ...  76800  77100  77900  78300  77500  78100  78900  79400  78800  79400  \n",
              "233  ...  77500  78100  78900  79400  78800  79400  79800  80000  79300  79900  \n",
              "\n",
              "[234 rows x 40 columns]"
            ],
            "text/html": [
              "\n",
              "  <div id=\"df-4a238410-03c4-47f8-9039-9eeb0b9e5d3c\">\n",
              "    <div class=\"colab-df-container\">\n",
              "      <div>\n",
              "<style scoped>\n",
              "    .dataframe tbody tr th:only-of-type {\n",
              "        vertical-align: middle;\n",
              "    }\n",
              "\n",
              "    .dataframe tbody tr th {\n",
              "        vertical-align: top;\n",
              "    }\n",
              "\n",
              "    .dataframe thead th {\n",
              "        text-align: right;\n",
              "    }\n",
              "</style>\n",
              "<table border=\"1\" class=\"dataframe\">\n",
              "  <thead>\n",
              "    <tr style=\"text-align: right;\">\n",
              "      <th></th>\n",
              "      <th>0</th>\n",
              "      <th>1</th>\n",
              "      <th>2</th>\n",
              "      <th>3</th>\n",
              "      <th>4</th>\n",
              "      <th>5</th>\n",
              "      <th>6</th>\n",
              "      <th>7</th>\n",
              "      <th>8</th>\n",
              "      <th>9</th>\n",
              "      <th>...</th>\n",
              "      <th>30</th>\n",
              "      <th>31</th>\n",
              "      <th>32</th>\n",
              "      <th>33</th>\n",
              "      <th>34</th>\n",
              "      <th>35</th>\n",
              "      <th>36</th>\n",
              "      <th>37</th>\n",
              "      <th>38</th>\n",
              "      <th>39</th>\n",
              "    </tr>\n",
              "  </thead>\n",
              "  <tbody>\n",
              "    <tr>\n",
              "      <th>0</th>\n",
              "      <td>81000</td>\n",
              "      <td>84400</td>\n",
              "      <td>80200</td>\n",
              "      <td>83000</td>\n",
              "      <td>81600</td>\n",
              "      <td>83900</td>\n",
              "      <td>81600</td>\n",
              "      <td>83900</td>\n",
              "      <td>83300</td>\n",
              "      <td>84500</td>\n",
              "      <td>...</td>\n",
              "      <td>89100</td>\n",
              "      <td>89700</td>\n",
              "      <td>88700</td>\n",
              "      <td>90000</td>\n",
              "      <td>88700</td>\n",
              "      <td>89700</td>\n",
              "      <td>89800</td>\n",
              "      <td>91800</td>\n",
              "      <td>88000</td>\n",
              "      <td>88000</td>\n",
              "    </tr>\n",
              "    <tr>\n",
              "      <th>1</th>\n",
              "      <td>81600</td>\n",
              "      <td>83900</td>\n",
              "      <td>81600</td>\n",
              "      <td>83900</td>\n",
              "      <td>83300</td>\n",
              "      <td>84500</td>\n",
              "      <td>82100</td>\n",
              "      <td>82200</td>\n",
              "      <td>82800</td>\n",
              "      <td>84200</td>\n",
              "      <td>...</td>\n",
              "      <td>88700</td>\n",
              "      <td>89700</td>\n",
              "      <td>89800</td>\n",
              "      <td>91800</td>\n",
              "      <td>88000</td>\n",
              "      <td>88000</td>\n",
              "      <td>86600</td>\n",
              "      <td>87300</td>\n",
              "      <td>84100</td>\n",
              "      <td>85000</td>\n",
              "    </tr>\n",
              "    <tr>\n",
              "      <th>2</th>\n",
              "      <td>83300</td>\n",
              "      <td>84500</td>\n",
              "      <td>82100</td>\n",
              "      <td>82200</td>\n",
              "      <td>82800</td>\n",
              "      <td>84200</td>\n",
              "      <td>82700</td>\n",
              "      <td>82900</td>\n",
              "      <td>83300</td>\n",
              "      <td>90000</td>\n",
              "      <td>...</td>\n",
              "      <td>88000</td>\n",
              "      <td>88000</td>\n",
              "      <td>86600</td>\n",
              "      <td>87300</td>\n",
              "      <td>84100</td>\n",
              "      <td>85000</td>\n",
              "      <td>84500</td>\n",
              "      <td>88000</td>\n",
              "      <td>83600</td>\n",
              "      <td>87000</td>\n",
              "    </tr>\n",
              "    <tr>\n",
              "      <th>3</th>\n",
              "      <td>82800</td>\n",
              "      <td>84200</td>\n",
              "      <td>82700</td>\n",
              "      <td>82900</td>\n",
              "      <td>83300</td>\n",
              "      <td>90000</td>\n",
              "      <td>83000</td>\n",
              "      <td>88800</td>\n",
              "      <td>90000</td>\n",
              "      <td>96800</td>\n",
              "      <td>...</td>\n",
              "      <td>84100</td>\n",
              "      <td>85000</td>\n",
              "      <td>84500</td>\n",
              "      <td>88000</td>\n",
              "      <td>83600</td>\n",
              "      <td>87000</td>\n",
              "      <td>89000</td>\n",
              "      <td>89000</td>\n",
              "      <td>86500</td>\n",
              "      <td>87200</td>\n",
              "    </tr>\n",
              "    <tr>\n",
              "      <th>4</th>\n",
              "      <td>83300</td>\n",
              "      <td>90000</td>\n",
              "      <td>83000</td>\n",
              "      <td>88800</td>\n",
              "      <td>90000</td>\n",
              "      <td>96800</td>\n",
              "      <td>89500</td>\n",
              "      <td>91000</td>\n",
              "      <td>90300</td>\n",
              "      <td>91400</td>\n",
              "      <td>...</td>\n",
              "      <td>83600</td>\n",
              "      <td>87000</td>\n",
              "      <td>89000</td>\n",
              "      <td>89000</td>\n",
              "      <td>86500</td>\n",
              "      <td>87200</td>\n",
              "      <td>87500</td>\n",
              "      <td>88600</td>\n",
              "      <td>86500</td>\n",
              "      <td>88100</td>\n",
              "    </tr>\n",
              "    <tr>\n",
              "      <th>...</th>\n",
              "      <td>...</td>\n",
              "      <td>...</td>\n",
              "      <td>...</td>\n",
              "      <td>...</td>\n",
              "      <td>...</td>\n",
              "      <td>...</td>\n",
              "      <td>...</td>\n",
              "      <td>...</td>\n",
              "      <td>...</td>\n",
              "      <td>...</td>\n",
              "      <td>...</td>\n",
              "      <td>...</td>\n",
              "      <td>...</td>\n",
              "      <td>...</td>\n",
              "      <td>...</td>\n",
              "      <td>...</td>\n",
              "      <td>...</td>\n",
              "      <td>...</td>\n",
              "      <td>...</td>\n",
              "      <td>...</td>\n",
              "      <td>...</td>\n",
              "    </tr>\n",
              "    <tr>\n",
              "      <th>229</th>\n",
              "      <td>75100</td>\n",
              "      <td>76700</td>\n",
              "      <td>74900</td>\n",
              "      <td>76300</td>\n",
              "      <td>76100</td>\n",
              "      <td>77700</td>\n",
              "      <td>75600</td>\n",
              "      <td>77400</td>\n",
              "      <td>78300</td>\n",
              "      <td>78600</td>\n",
              "      <td>...</td>\n",
              "      <td>76300</td>\n",
              "      <td>77600</td>\n",
              "      <td>78500</td>\n",
              "      <td>78500</td>\n",
              "      <td>77400</td>\n",
              "      <td>77800</td>\n",
              "      <td>76800</td>\n",
              "      <td>78000</td>\n",
              "      <td>76800</td>\n",
              "      <td>78000</td>\n",
              "    </tr>\n",
              "    <tr>\n",
              "      <th>230</th>\n",
              "      <td>76100</td>\n",
              "      <td>77700</td>\n",
              "      <td>75600</td>\n",
              "      <td>77400</td>\n",
              "      <td>78300</td>\n",
              "      <td>78600</td>\n",
              "      <td>77100</td>\n",
              "      <td>77400</td>\n",
              "      <td>77400</td>\n",
              "      <td>78200</td>\n",
              "      <td>...</td>\n",
              "      <td>77400</td>\n",
              "      <td>77800</td>\n",
              "      <td>76800</td>\n",
              "      <td>78000</td>\n",
              "      <td>76800</td>\n",
              "      <td>78000</td>\n",
              "      <td>77600</td>\n",
              "      <td>77800</td>\n",
              "      <td>76800</td>\n",
              "      <td>77100</td>\n",
              "    </tr>\n",
              "    <tr>\n",
              "      <th>231</th>\n",
              "      <td>78300</td>\n",
              "      <td>78600</td>\n",
              "      <td>77100</td>\n",
              "      <td>77400</td>\n",
              "      <td>77400</td>\n",
              "      <td>78200</td>\n",
              "      <td>77000</td>\n",
              "      <td>78200</td>\n",
              "      <td>77400</td>\n",
              "      <td>77600</td>\n",
              "      <td>...</td>\n",
              "      <td>76800</td>\n",
              "      <td>78000</td>\n",
              "      <td>77600</td>\n",
              "      <td>77800</td>\n",
              "      <td>76800</td>\n",
              "      <td>77100</td>\n",
              "      <td>77900</td>\n",
              "      <td>78300</td>\n",
              "      <td>77500</td>\n",
              "      <td>78100</td>\n",
              "    </tr>\n",
              "    <tr>\n",
              "      <th>232</th>\n",
              "      <td>77400</td>\n",
              "      <td>78200</td>\n",
              "      <td>77000</td>\n",
              "      <td>78200</td>\n",
              "      <td>77400</td>\n",
              "      <td>77600</td>\n",
              "      <td>76800</td>\n",
              "      <td>76900</td>\n",
              "      <td>77200</td>\n",
              "      <td>78300</td>\n",
              "      <td>...</td>\n",
              "      <td>76800</td>\n",
              "      <td>77100</td>\n",
              "      <td>77900</td>\n",
              "      <td>78300</td>\n",
              "      <td>77500</td>\n",
              "      <td>78100</td>\n",
              "      <td>78900</td>\n",
              "      <td>79400</td>\n",
              "      <td>78800</td>\n",
              "      <td>79400</td>\n",
              "    </tr>\n",
              "    <tr>\n",
              "      <th>233</th>\n",
              "      <td>77400</td>\n",
              "      <td>77600</td>\n",
              "      <td>76800</td>\n",
              "      <td>76900</td>\n",
              "      <td>77200</td>\n",
              "      <td>78300</td>\n",
              "      <td>76500</td>\n",
              "      <td>76800</td>\n",
              "      <td>76500</td>\n",
              "      <td>77200</td>\n",
              "      <td>...</td>\n",
              "      <td>77500</td>\n",
              "      <td>78100</td>\n",
              "      <td>78900</td>\n",
              "      <td>79400</td>\n",
              "      <td>78800</td>\n",
              "      <td>79400</td>\n",
              "      <td>79800</td>\n",
              "      <td>80000</td>\n",
              "      <td>79300</td>\n",
              "      <td>79900</td>\n",
              "    </tr>\n",
              "  </tbody>\n",
              "</table>\n",
              "<p>234 rows × 40 columns</p>\n",
              "</div>\n",
              "      <button class=\"colab-df-convert\" onclick=\"convertToInteractive('df-4a238410-03c4-47f8-9039-9eeb0b9e5d3c')\"\n",
              "              title=\"Convert this dataframe to an interactive table.\"\n",
              "              style=\"display:none;\">\n",
              "        \n",
              "  <svg xmlns=\"http://www.w3.org/2000/svg\" height=\"24px\"viewBox=\"0 0 24 24\"\n",
              "       width=\"24px\">\n",
              "    <path d=\"M0 0h24v24H0V0z\" fill=\"none\"/>\n",
              "    <path d=\"M18.56 5.44l.94 2.06.94-2.06 2.06-.94-2.06-.94-.94-2.06-.94 2.06-2.06.94zm-11 1L8.5 8.5l.94-2.06 2.06-.94-2.06-.94L8.5 2.5l-.94 2.06-2.06.94zm10 10l.94 2.06.94-2.06 2.06-.94-2.06-.94-.94-2.06-.94 2.06-2.06.94z\"/><path d=\"M17.41 7.96l-1.37-1.37c-.4-.4-.92-.59-1.43-.59-.52 0-1.04.2-1.43.59L10.3 9.45l-7.72 7.72c-.78.78-.78 2.05 0 2.83L4 21.41c.39.39.9.59 1.41.59.51 0 1.02-.2 1.41-.59l7.78-7.78 2.81-2.81c.8-.78.8-2.07 0-2.86zM5.41 20L4 18.59l7.72-7.72 1.47 1.35L5.41 20z\"/>\n",
              "  </svg>\n",
              "      </button>\n",
              "      \n",
              "  <style>\n",
              "    .colab-df-container {\n",
              "      display:flex;\n",
              "      flex-wrap:wrap;\n",
              "      gap: 12px;\n",
              "    }\n",
              "\n",
              "    .colab-df-convert {\n",
              "      background-color: #E8F0FE;\n",
              "      border: none;\n",
              "      border-radius: 50%;\n",
              "      cursor: pointer;\n",
              "      display: none;\n",
              "      fill: #1967D2;\n",
              "      height: 32px;\n",
              "      padding: 0 0 0 0;\n",
              "      width: 32px;\n",
              "    }\n",
              "\n",
              "    .colab-df-convert:hover {\n",
              "      background-color: #E2EBFA;\n",
              "      box-shadow: 0px 1px 2px rgba(60, 64, 67, 0.3), 0px 1px 3px 1px rgba(60, 64, 67, 0.15);\n",
              "      fill: #174EA6;\n",
              "    }\n",
              "\n",
              "    [theme=dark] .colab-df-convert {\n",
              "      background-color: #3B4455;\n",
              "      fill: #D2E3FC;\n",
              "    }\n",
              "\n",
              "    [theme=dark] .colab-df-convert:hover {\n",
              "      background-color: #434B5C;\n",
              "      box-shadow: 0px 1px 3px 1px rgba(0, 0, 0, 0.15);\n",
              "      filter: drop-shadow(0px 1px 2px rgba(0, 0, 0, 0.3));\n",
              "      fill: #FFFFFF;\n",
              "    }\n",
              "  </style>\n",
              "\n",
              "      <script>\n",
              "        const buttonEl =\n",
              "          document.querySelector('#df-4a238410-03c4-47f8-9039-9eeb0b9e5d3c button.colab-df-convert');\n",
              "        buttonEl.style.display =\n",
              "          google.colab.kernel.accessAllowed ? 'block' : 'none';\n",
              "\n",
              "        async function convertToInteractive(key) {\n",
              "          const element = document.querySelector('#df-4a238410-03c4-47f8-9039-9eeb0b9e5d3c');\n",
              "          const dataTable =\n",
              "            await google.colab.kernel.invokeFunction('convertToInteractive',\n",
              "                                                     [key], {});\n",
              "          if (!dataTable) return;\n",
              "\n",
              "          const docLinkHtml = 'Like what you see? Visit the ' +\n",
              "            '<a target=\"_blank\" href=https://colab.research.google.com/notebooks/data_table.ipynb>data table notebook</a>'\n",
              "            + ' to learn more about interactive tables.';\n",
              "          element.innerHTML = '';\n",
              "          dataTable['output_type'] = 'display_data';\n",
              "          await google.colab.output.renderOutput(dataTable, element);\n",
              "          const docLink = document.createElement('div');\n",
              "          docLink.innerHTML = docLinkHtml;\n",
              "          element.appendChild(docLink);\n",
              "        }\n",
              "      </script>\n",
              "    </div>\n",
              "  </div>\n",
              "  "
            ]
          },
          "metadata": {},
          "execution_count": 68
        }
      ]
    },
    {
      "cell_type": "markdown",
      "source": [
        "## 6.각행의 시작가 ,상한가 , 하한가, 종가별로 평균을 구해 2차원 형태로 변경해보세요."
      ],
      "metadata": {
        "id": "Iy5vcBgAHh8v"
      }
    },
    {
      "cell_type": "markdown",
      "source": [
        "```\n",
        "아래 셀의 코드 작성\n",
        "```"
      ],
      "metadata": {
        "id": "lnhYMx7rv6WP"
      }
    },
    {
      "cell_type": "code",
      "source": [
        "avg_raw = samsung_stock_3d.mean(axis=1) "
      ],
      "metadata": {
        "id": "gGhLXstJ39St"
      },
      "execution_count": 69,
      "outputs": []
    },
    {
      "cell_type": "code",
      "source": [
        "import pandas as pd\n",
        "import numpy as np\n",
        "\n",
        "df = pd.DataFrame(avg_raw)\n",
        "df"
      ],
      "metadata": {
        "colab": {
          "base_uri": "https://localhost:8080/",
          "height": 423
        },
        "id": "nBjSgYn6Z_A0",
        "outputId": "35310805-7b4f-4a94-d970-36a260158492"
      },
      "execution_count": 70,
      "outputs": [
        {
          "output_type": "execute_result",
          "data": {
            "text/plain": [
              "           0        1        2        3\n",
              "0    86060.0  88820.0  85270.0  86980.0\n",
              "1    86620.0  89110.0  85660.0  87180.0\n",
              "2    86910.0  89520.0  85860.0  87490.0\n",
              "3    87480.0  89970.0  86300.0  87990.0\n",
              "4    87950.0  90410.0  86680.0  88510.0\n",
              "..       ...      ...      ...      ...\n",
              "229  76970.0  77840.0  76460.0  77340.0\n",
              "230  77220.0  77950.0  76650.0  77420.0\n",
              "231  77400.0  78010.0  76840.0  77490.0\n",
              "232  77460.0  78090.0  77010.0  77690.0\n",
              "233  77700.0  78270.0  77240.0  77860.0\n",
              "\n",
              "[234 rows x 4 columns]"
            ],
            "text/html": [
              "\n",
              "  <div id=\"df-5afe0028-6707-405f-8147-6a4a19bfe9fd\">\n",
              "    <div class=\"colab-df-container\">\n",
              "      <div>\n",
              "<style scoped>\n",
              "    .dataframe tbody tr th:only-of-type {\n",
              "        vertical-align: middle;\n",
              "    }\n",
              "\n",
              "    .dataframe tbody tr th {\n",
              "        vertical-align: top;\n",
              "    }\n",
              "\n",
              "    .dataframe thead th {\n",
              "        text-align: right;\n",
              "    }\n",
              "</style>\n",
              "<table border=\"1\" class=\"dataframe\">\n",
              "  <thead>\n",
              "    <tr style=\"text-align: right;\">\n",
              "      <th></th>\n",
              "      <th>0</th>\n",
              "      <th>1</th>\n",
              "      <th>2</th>\n",
              "      <th>3</th>\n",
              "    </tr>\n",
              "  </thead>\n",
              "  <tbody>\n",
              "    <tr>\n",
              "      <th>0</th>\n",
              "      <td>86060.0</td>\n",
              "      <td>88820.0</td>\n",
              "      <td>85270.0</td>\n",
              "      <td>86980.0</td>\n",
              "    </tr>\n",
              "    <tr>\n",
              "      <th>1</th>\n",
              "      <td>86620.0</td>\n",
              "      <td>89110.0</td>\n",
              "      <td>85660.0</td>\n",
              "      <td>87180.0</td>\n",
              "    </tr>\n",
              "    <tr>\n",
              "      <th>2</th>\n",
              "      <td>86910.0</td>\n",
              "      <td>89520.0</td>\n",
              "      <td>85860.0</td>\n",
              "      <td>87490.0</td>\n",
              "    </tr>\n",
              "    <tr>\n",
              "      <th>3</th>\n",
              "      <td>87480.0</td>\n",
              "      <td>89970.0</td>\n",
              "      <td>86300.0</td>\n",
              "      <td>87990.0</td>\n",
              "    </tr>\n",
              "    <tr>\n",
              "      <th>4</th>\n",
              "      <td>87950.0</td>\n",
              "      <td>90410.0</td>\n",
              "      <td>86680.0</td>\n",
              "      <td>88510.0</td>\n",
              "    </tr>\n",
              "    <tr>\n",
              "      <th>...</th>\n",
              "      <td>...</td>\n",
              "      <td>...</td>\n",
              "      <td>...</td>\n",
              "      <td>...</td>\n",
              "    </tr>\n",
              "    <tr>\n",
              "      <th>229</th>\n",
              "      <td>76970.0</td>\n",
              "      <td>77840.0</td>\n",
              "      <td>76460.0</td>\n",
              "      <td>77340.0</td>\n",
              "    </tr>\n",
              "    <tr>\n",
              "      <th>230</th>\n",
              "      <td>77220.0</td>\n",
              "      <td>77950.0</td>\n",
              "      <td>76650.0</td>\n",
              "      <td>77420.0</td>\n",
              "    </tr>\n",
              "    <tr>\n",
              "      <th>231</th>\n",
              "      <td>77400.0</td>\n",
              "      <td>78010.0</td>\n",
              "      <td>76840.0</td>\n",
              "      <td>77490.0</td>\n",
              "    </tr>\n",
              "    <tr>\n",
              "      <th>232</th>\n",
              "      <td>77460.0</td>\n",
              "      <td>78090.0</td>\n",
              "      <td>77010.0</td>\n",
              "      <td>77690.0</td>\n",
              "    </tr>\n",
              "    <tr>\n",
              "      <th>233</th>\n",
              "      <td>77700.0</td>\n",
              "      <td>78270.0</td>\n",
              "      <td>77240.0</td>\n",
              "      <td>77860.0</td>\n",
              "    </tr>\n",
              "  </tbody>\n",
              "</table>\n",
              "<p>234 rows × 4 columns</p>\n",
              "</div>\n",
              "      <button class=\"colab-df-convert\" onclick=\"convertToInteractive('df-5afe0028-6707-405f-8147-6a4a19bfe9fd')\"\n",
              "              title=\"Convert this dataframe to an interactive table.\"\n",
              "              style=\"display:none;\">\n",
              "        \n",
              "  <svg xmlns=\"http://www.w3.org/2000/svg\" height=\"24px\"viewBox=\"0 0 24 24\"\n",
              "       width=\"24px\">\n",
              "    <path d=\"M0 0h24v24H0V0z\" fill=\"none\"/>\n",
              "    <path d=\"M18.56 5.44l.94 2.06.94-2.06 2.06-.94-2.06-.94-.94-2.06-.94 2.06-2.06.94zm-11 1L8.5 8.5l.94-2.06 2.06-.94-2.06-.94L8.5 2.5l-.94 2.06-2.06.94zm10 10l.94 2.06.94-2.06 2.06-.94-2.06-.94-.94-2.06-.94 2.06-2.06.94z\"/><path d=\"M17.41 7.96l-1.37-1.37c-.4-.4-.92-.59-1.43-.59-.52 0-1.04.2-1.43.59L10.3 9.45l-7.72 7.72c-.78.78-.78 2.05 0 2.83L4 21.41c.39.39.9.59 1.41.59.51 0 1.02-.2 1.41-.59l7.78-7.78 2.81-2.81c.8-.78.8-2.07 0-2.86zM5.41 20L4 18.59l7.72-7.72 1.47 1.35L5.41 20z\"/>\n",
              "  </svg>\n",
              "      </button>\n",
              "      \n",
              "  <style>\n",
              "    .colab-df-container {\n",
              "      display:flex;\n",
              "      flex-wrap:wrap;\n",
              "      gap: 12px;\n",
              "    }\n",
              "\n",
              "    .colab-df-convert {\n",
              "      background-color: #E8F0FE;\n",
              "      border: none;\n",
              "      border-radius: 50%;\n",
              "      cursor: pointer;\n",
              "      display: none;\n",
              "      fill: #1967D2;\n",
              "      height: 32px;\n",
              "      padding: 0 0 0 0;\n",
              "      width: 32px;\n",
              "    }\n",
              "\n",
              "    .colab-df-convert:hover {\n",
              "      background-color: #E2EBFA;\n",
              "      box-shadow: 0px 1px 2px rgba(60, 64, 67, 0.3), 0px 1px 3px 1px rgba(60, 64, 67, 0.15);\n",
              "      fill: #174EA6;\n",
              "    }\n",
              "\n",
              "    [theme=dark] .colab-df-convert {\n",
              "      background-color: #3B4455;\n",
              "      fill: #D2E3FC;\n",
              "    }\n",
              "\n",
              "    [theme=dark] .colab-df-convert:hover {\n",
              "      background-color: #434B5C;\n",
              "      box-shadow: 0px 1px 3px 1px rgba(0, 0, 0, 0.15);\n",
              "      filter: drop-shadow(0px 1px 2px rgba(0, 0, 0, 0.3));\n",
              "      fill: #FFFFFF;\n",
              "    }\n",
              "  </style>\n",
              "\n",
              "      <script>\n",
              "        const buttonEl =\n",
              "          document.querySelector('#df-5afe0028-6707-405f-8147-6a4a19bfe9fd button.colab-df-convert');\n",
              "        buttonEl.style.display =\n",
              "          google.colab.kernel.accessAllowed ? 'block' : 'none';\n",
              "\n",
              "        async function convertToInteractive(key) {\n",
              "          const element = document.querySelector('#df-5afe0028-6707-405f-8147-6a4a19bfe9fd');\n",
              "          const dataTable =\n",
              "            await google.colab.kernel.invokeFunction('convertToInteractive',\n",
              "                                                     [key], {});\n",
              "          if (!dataTable) return;\n",
              "\n",
              "          const docLinkHtml = 'Like what you see? Visit the ' +\n",
              "            '<a target=\"_blank\" href=https://colab.research.google.com/notebooks/data_table.ipynb>data table notebook</a>'\n",
              "            + ' to learn more about interactive tables.';\n",
              "          element.innerHTML = '';\n",
              "          dataTable['output_type'] = 'display_data';\n",
              "          await google.colab.output.renderOutput(dataTable, element);\n",
              "          const docLink = document.createElement('div');\n",
              "          docLink.innerHTML = docLinkHtml;\n",
              "          element.appendChild(docLink);\n",
              "        }\n",
              "      </script>\n",
              "    </div>\n",
              "  </div>\n",
              "  "
            ]
          },
          "metadata": {},
          "execution_count": 70
        }
      ]
    },
    {
      "cell_type": "markdown",
      "source": [
        "## 7. 5번과 6번에서 생성한 특성(열)들을 합쳐서 x_train 변수에 넣어주세요."
      ],
      "metadata": {
        "id": "NTwzklVKJgWe"
      }
    },
    {
      "cell_type": "markdown",
      "source": [
        "```\n",
        "아래 셀의 코드 작성\n",
        "```"
      ],
      "metadata": {
        "id": "CXrL2Jotv74h"
      }
    },
    {
      "cell_type": "code",
      "source": [
        "x_train = np.concatenate([newarr,avg_raw], axis=1)\n",
        "x_train"
      ],
      "metadata": {
        "id": "ZPB5AgRWv7og",
        "colab": {
          "base_uri": "https://localhost:8080/"
        },
        "outputId": "fdce4ff1-f697-4104-e6db-6c0ac0b7d9da"
      },
      "execution_count": 71,
      "outputs": [
        {
          "output_type": "execute_result",
          "data": {
            "text/plain": [
              "array([[81000., 84400., 80200., ..., 88820., 85270., 86980.],\n",
              "       [81600., 83900., 81600., ..., 89110., 85660., 87180.],\n",
              "       [83300., 84500., 82100., ..., 89520., 85860., 87490.],\n",
              "       ...,\n",
              "       [78300., 78600., 77100., ..., 78010., 76840., 77490.],\n",
              "       [77400., 78200., 77000., ..., 78090., 77010., 77690.],\n",
              "       [77400., 77600., 76800., ..., 78270., 77240., 77860.]])"
            ]
          },
          "metadata": {},
          "execution_count": 71
        }
      ]
    },
    {
      "cell_type": "markdown",
      "source": [
        "- 강사님 코드"
      ],
      "metadata": {
        "id": "P2xPTMpdWROV"
      }
    },
    {
      "cell_type": "code",
      "source": [
        "x_train = np.concatenate([\n",
        "    samsung_stock_3d.reshape(samsung_stock_3d.shape[0],-1),\n",
        "    samsung_stock_3d.mean(axis=1) \n",
        "],axis=1)\n",
        "x_train"
      ],
      "metadata": {
        "colab": {
          "base_uri": "https://localhost:8080/"
        },
        "id": "VQHXrZr7WMmV",
        "outputId": "eec91fdc-b5c0-403b-b1c5-d4f908634601"
      },
      "execution_count": 72,
      "outputs": [
        {
          "output_type": "execute_result",
          "data": {
            "text/plain": [
              "array([[81000., 84400., 80200., ..., 88820., 85270., 86980.],\n",
              "       [81600., 83900., 81600., ..., 89110., 85660., 87180.],\n",
              "       [83300., 84500., 82100., ..., 89520., 85860., 87490.],\n",
              "       ...,\n",
              "       [78300., 78600., 77100., ..., 78010., 76840., 77490.],\n",
              "       [77400., 78200., 77000., ..., 78090., 77010., 77690.],\n",
              "       [77400., 77600., 76800., ..., 78270., 77240., 77860.]])"
            ]
          },
          "metadata": {},
          "execution_count": 72
        }
      ]
    },
    {
      "cell_type": "code",
      "source": [
        "import pandas as pd\n",
        "import numpy as np\n",
        "\n",
        "df = pd.DataFrame(x_train)\n",
        "df"
      ],
      "metadata": {
        "colab": {
          "base_uri": "https://localhost:8080/",
          "height": 487
        },
        "id": "k9mYoihtd1cf",
        "outputId": "715f26ff-73fc-4c6a-be40-579d55f6ec5d"
      },
      "execution_count": 73,
      "outputs": [
        {
          "output_type": "execute_result",
          "data": {
            "text/plain": [
              "          0        1        2        3        4        5        6        7   \\\n",
              "0    81000.0  84400.0  80200.0  83000.0  81600.0  83900.0  81600.0  83900.0   \n",
              "1    81600.0  83900.0  81600.0  83900.0  83300.0  84500.0  82100.0  82200.0   \n",
              "2    83300.0  84500.0  82100.0  82200.0  82800.0  84200.0  82700.0  82900.0   \n",
              "3    82800.0  84200.0  82700.0  82900.0  83300.0  90000.0  83000.0  88800.0   \n",
              "4    83300.0  90000.0  83000.0  88800.0  90000.0  96800.0  89500.0  91000.0   \n",
              "..       ...      ...      ...      ...      ...      ...      ...      ...   \n",
              "229  75100.0  76700.0  74900.0  76300.0  76100.0  77700.0  75600.0  77400.0   \n",
              "230  76100.0  77700.0  75600.0  77400.0  78300.0  78600.0  77100.0  77400.0   \n",
              "231  78300.0  78600.0  77100.0  77400.0  77400.0  78200.0  77000.0  78200.0   \n",
              "232  77400.0  78200.0  77000.0  78200.0  77400.0  77600.0  76800.0  76900.0   \n",
              "233  77400.0  77600.0  76800.0  76900.0  77200.0  78300.0  76500.0  76800.0   \n",
              "\n",
              "          8        9   ...       34       35       36       37       38  \\\n",
              "0    83300.0  84500.0  ...  88700.0  89700.0  89800.0  91800.0  88000.0   \n",
              "1    82800.0  84200.0  ...  88000.0  88000.0  86600.0  87300.0  84100.0   \n",
              "2    83300.0  90000.0  ...  84100.0  85000.0  84500.0  88000.0  83600.0   \n",
              "3    90000.0  96800.0  ...  83600.0  87000.0  89000.0  89000.0  86500.0   \n",
              "4    90300.0  91400.0  ...  86500.0  87200.0  87500.0  88600.0  86500.0   \n",
              "..       ...      ...  ...      ...      ...      ...      ...      ...   \n",
              "229  78300.0  78600.0  ...  77400.0  77800.0  76800.0  78000.0  76800.0   \n",
              "230  77400.0  78200.0  ...  76800.0  78000.0  77600.0  77800.0  76800.0   \n",
              "231  77400.0  77600.0  ...  76800.0  77100.0  77900.0  78300.0  77500.0   \n",
              "232  77200.0  78300.0  ...  77500.0  78100.0  78900.0  79400.0  78800.0   \n",
              "233  76500.0  77200.0  ...  78800.0  79400.0  79800.0  80000.0  79300.0   \n",
              "\n",
              "          39       40       41       42       43  \n",
              "0    88000.0  86060.0  88820.0  85270.0  86980.0  \n",
              "1    85000.0  86620.0  89110.0  85660.0  87180.0  \n",
              "2    87000.0  86910.0  89520.0  85860.0  87490.0  \n",
              "3    87200.0  87480.0  89970.0  86300.0  87990.0  \n",
              "4    88100.0  87950.0  90410.0  86680.0  88510.0  \n",
              "..       ...      ...      ...      ...      ...  \n",
              "229  78000.0  76970.0  77840.0  76460.0  77340.0  \n",
              "230  77100.0  77220.0  77950.0  76650.0  77420.0  \n",
              "231  78100.0  77400.0  78010.0  76840.0  77490.0  \n",
              "232  79400.0  77460.0  78090.0  77010.0  77690.0  \n",
              "233  79900.0  77700.0  78270.0  77240.0  77860.0  \n",
              "\n",
              "[234 rows x 44 columns]"
            ],
            "text/html": [
              "\n",
              "  <div id=\"df-951f1b3d-fff6-4b3a-98a3-7a3fe03ce8ad\">\n",
              "    <div class=\"colab-df-container\">\n",
              "      <div>\n",
              "<style scoped>\n",
              "    .dataframe tbody tr th:only-of-type {\n",
              "        vertical-align: middle;\n",
              "    }\n",
              "\n",
              "    .dataframe tbody tr th {\n",
              "        vertical-align: top;\n",
              "    }\n",
              "\n",
              "    .dataframe thead th {\n",
              "        text-align: right;\n",
              "    }\n",
              "</style>\n",
              "<table border=\"1\" class=\"dataframe\">\n",
              "  <thead>\n",
              "    <tr style=\"text-align: right;\">\n",
              "      <th></th>\n",
              "      <th>0</th>\n",
              "      <th>1</th>\n",
              "      <th>2</th>\n",
              "      <th>3</th>\n",
              "      <th>4</th>\n",
              "      <th>5</th>\n",
              "      <th>6</th>\n",
              "      <th>7</th>\n",
              "      <th>8</th>\n",
              "      <th>9</th>\n",
              "      <th>...</th>\n",
              "      <th>34</th>\n",
              "      <th>35</th>\n",
              "      <th>36</th>\n",
              "      <th>37</th>\n",
              "      <th>38</th>\n",
              "      <th>39</th>\n",
              "      <th>40</th>\n",
              "      <th>41</th>\n",
              "      <th>42</th>\n",
              "      <th>43</th>\n",
              "    </tr>\n",
              "  </thead>\n",
              "  <tbody>\n",
              "    <tr>\n",
              "      <th>0</th>\n",
              "      <td>81000.0</td>\n",
              "      <td>84400.0</td>\n",
              "      <td>80200.0</td>\n",
              "      <td>83000.0</td>\n",
              "      <td>81600.0</td>\n",
              "      <td>83900.0</td>\n",
              "      <td>81600.0</td>\n",
              "      <td>83900.0</td>\n",
              "      <td>83300.0</td>\n",
              "      <td>84500.0</td>\n",
              "      <td>...</td>\n",
              "      <td>88700.0</td>\n",
              "      <td>89700.0</td>\n",
              "      <td>89800.0</td>\n",
              "      <td>91800.0</td>\n",
              "      <td>88000.0</td>\n",
              "      <td>88000.0</td>\n",
              "      <td>86060.0</td>\n",
              "      <td>88820.0</td>\n",
              "      <td>85270.0</td>\n",
              "      <td>86980.0</td>\n",
              "    </tr>\n",
              "    <tr>\n",
              "      <th>1</th>\n",
              "      <td>81600.0</td>\n",
              "      <td>83900.0</td>\n",
              "      <td>81600.0</td>\n",
              "      <td>83900.0</td>\n",
              "      <td>83300.0</td>\n",
              "      <td>84500.0</td>\n",
              "      <td>82100.0</td>\n",
              "      <td>82200.0</td>\n",
              "      <td>82800.0</td>\n",
              "      <td>84200.0</td>\n",
              "      <td>...</td>\n",
              "      <td>88000.0</td>\n",
              "      <td>88000.0</td>\n",
              "      <td>86600.0</td>\n",
              "      <td>87300.0</td>\n",
              "      <td>84100.0</td>\n",
              "      <td>85000.0</td>\n",
              "      <td>86620.0</td>\n",
              "      <td>89110.0</td>\n",
              "      <td>85660.0</td>\n",
              "      <td>87180.0</td>\n",
              "    </tr>\n",
              "    <tr>\n",
              "      <th>2</th>\n",
              "      <td>83300.0</td>\n",
              "      <td>84500.0</td>\n",
              "      <td>82100.0</td>\n",
              "      <td>82200.0</td>\n",
              "      <td>82800.0</td>\n",
              "      <td>84200.0</td>\n",
              "      <td>82700.0</td>\n",
              "      <td>82900.0</td>\n",
              "      <td>83300.0</td>\n",
              "      <td>90000.0</td>\n",
              "      <td>...</td>\n",
              "      <td>84100.0</td>\n",
              "      <td>85000.0</td>\n",
              "      <td>84500.0</td>\n",
              "      <td>88000.0</td>\n",
              "      <td>83600.0</td>\n",
              "      <td>87000.0</td>\n",
              "      <td>86910.0</td>\n",
              "      <td>89520.0</td>\n",
              "      <td>85860.0</td>\n",
              "      <td>87490.0</td>\n",
              "    </tr>\n",
              "    <tr>\n",
              "      <th>3</th>\n",
              "      <td>82800.0</td>\n",
              "      <td>84200.0</td>\n",
              "      <td>82700.0</td>\n",
              "      <td>82900.0</td>\n",
              "      <td>83300.0</td>\n",
              "      <td>90000.0</td>\n",
              "      <td>83000.0</td>\n",
              "      <td>88800.0</td>\n",
              "      <td>90000.0</td>\n",
              "      <td>96800.0</td>\n",
              "      <td>...</td>\n",
              "      <td>83600.0</td>\n",
              "      <td>87000.0</td>\n",
              "      <td>89000.0</td>\n",
              "      <td>89000.0</td>\n",
              "      <td>86500.0</td>\n",
              "      <td>87200.0</td>\n",
              "      <td>87480.0</td>\n",
              "      <td>89970.0</td>\n",
              "      <td>86300.0</td>\n",
              "      <td>87990.0</td>\n",
              "    </tr>\n",
              "    <tr>\n",
              "      <th>4</th>\n",
              "      <td>83300.0</td>\n",
              "      <td>90000.0</td>\n",
              "      <td>83000.0</td>\n",
              "      <td>88800.0</td>\n",
              "      <td>90000.0</td>\n",
              "      <td>96800.0</td>\n",
              "      <td>89500.0</td>\n",
              "      <td>91000.0</td>\n",
              "      <td>90300.0</td>\n",
              "      <td>91400.0</td>\n",
              "      <td>...</td>\n",
              "      <td>86500.0</td>\n",
              "      <td>87200.0</td>\n",
              "      <td>87500.0</td>\n",
              "      <td>88600.0</td>\n",
              "      <td>86500.0</td>\n",
              "      <td>88100.0</td>\n",
              "      <td>87950.0</td>\n",
              "      <td>90410.0</td>\n",
              "      <td>86680.0</td>\n",
              "      <td>88510.0</td>\n",
              "    </tr>\n",
              "    <tr>\n",
              "      <th>...</th>\n",
              "      <td>...</td>\n",
              "      <td>...</td>\n",
              "      <td>...</td>\n",
              "      <td>...</td>\n",
              "      <td>...</td>\n",
              "      <td>...</td>\n",
              "      <td>...</td>\n",
              "      <td>...</td>\n",
              "      <td>...</td>\n",
              "      <td>...</td>\n",
              "      <td>...</td>\n",
              "      <td>...</td>\n",
              "      <td>...</td>\n",
              "      <td>...</td>\n",
              "      <td>...</td>\n",
              "      <td>...</td>\n",
              "      <td>...</td>\n",
              "      <td>...</td>\n",
              "      <td>...</td>\n",
              "      <td>...</td>\n",
              "      <td>...</td>\n",
              "    </tr>\n",
              "    <tr>\n",
              "      <th>229</th>\n",
              "      <td>75100.0</td>\n",
              "      <td>76700.0</td>\n",
              "      <td>74900.0</td>\n",
              "      <td>76300.0</td>\n",
              "      <td>76100.0</td>\n",
              "      <td>77700.0</td>\n",
              "      <td>75600.0</td>\n",
              "      <td>77400.0</td>\n",
              "      <td>78300.0</td>\n",
              "      <td>78600.0</td>\n",
              "      <td>...</td>\n",
              "      <td>77400.0</td>\n",
              "      <td>77800.0</td>\n",
              "      <td>76800.0</td>\n",
              "      <td>78000.0</td>\n",
              "      <td>76800.0</td>\n",
              "      <td>78000.0</td>\n",
              "      <td>76970.0</td>\n",
              "      <td>77840.0</td>\n",
              "      <td>76460.0</td>\n",
              "      <td>77340.0</td>\n",
              "    </tr>\n",
              "    <tr>\n",
              "      <th>230</th>\n",
              "      <td>76100.0</td>\n",
              "      <td>77700.0</td>\n",
              "      <td>75600.0</td>\n",
              "      <td>77400.0</td>\n",
              "      <td>78300.0</td>\n",
              "      <td>78600.0</td>\n",
              "      <td>77100.0</td>\n",
              "      <td>77400.0</td>\n",
              "      <td>77400.0</td>\n",
              "      <td>78200.0</td>\n",
              "      <td>...</td>\n",
              "      <td>76800.0</td>\n",
              "      <td>78000.0</td>\n",
              "      <td>77600.0</td>\n",
              "      <td>77800.0</td>\n",
              "      <td>76800.0</td>\n",
              "      <td>77100.0</td>\n",
              "      <td>77220.0</td>\n",
              "      <td>77950.0</td>\n",
              "      <td>76650.0</td>\n",
              "      <td>77420.0</td>\n",
              "    </tr>\n",
              "    <tr>\n",
              "      <th>231</th>\n",
              "      <td>78300.0</td>\n",
              "      <td>78600.0</td>\n",
              "      <td>77100.0</td>\n",
              "      <td>77400.0</td>\n",
              "      <td>77400.0</td>\n",
              "      <td>78200.0</td>\n",
              "      <td>77000.0</td>\n",
              "      <td>78200.0</td>\n",
              "      <td>77400.0</td>\n",
              "      <td>77600.0</td>\n",
              "      <td>...</td>\n",
              "      <td>76800.0</td>\n",
              "      <td>77100.0</td>\n",
              "      <td>77900.0</td>\n",
              "      <td>78300.0</td>\n",
              "      <td>77500.0</td>\n",
              "      <td>78100.0</td>\n",
              "      <td>77400.0</td>\n",
              "      <td>78010.0</td>\n",
              "      <td>76840.0</td>\n",
              "      <td>77490.0</td>\n",
              "    </tr>\n",
              "    <tr>\n",
              "      <th>232</th>\n",
              "      <td>77400.0</td>\n",
              "      <td>78200.0</td>\n",
              "      <td>77000.0</td>\n",
              "      <td>78200.0</td>\n",
              "      <td>77400.0</td>\n",
              "      <td>77600.0</td>\n",
              "      <td>76800.0</td>\n",
              "      <td>76900.0</td>\n",
              "      <td>77200.0</td>\n",
              "      <td>78300.0</td>\n",
              "      <td>...</td>\n",
              "      <td>77500.0</td>\n",
              "      <td>78100.0</td>\n",
              "      <td>78900.0</td>\n",
              "      <td>79400.0</td>\n",
              "      <td>78800.0</td>\n",
              "      <td>79400.0</td>\n",
              "      <td>77460.0</td>\n",
              "      <td>78090.0</td>\n",
              "      <td>77010.0</td>\n",
              "      <td>77690.0</td>\n",
              "    </tr>\n",
              "    <tr>\n",
              "      <th>233</th>\n",
              "      <td>77400.0</td>\n",
              "      <td>77600.0</td>\n",
              "      <td>76800.0</td>\n",
              "      <td>76900.0</td>\n",
              "      <td>77200.0</td>\n",
              "      <td>78300.0</td>\n",
              "      <td>76500.0</td>\n",
              "      <td>76800.0</td>\n",
              "      <td>76500.0</td>\n",
              "      <td>77200.0</td>\n",
              "      <td>...</td>\n",
              "      <td>78800.0</td>\n",
              "      <td>79400.0</td>\n",
              "      <td>79800.0</td>\n",
              "      <td>80000.0</td>\n",
              "      <td>79300.0</td>\n",
              "      <td>79900.0</td>\n",
              "      <td>77700.0</td>\n",
              "      <td>78270.0</td>\n",
              "      <td>77240.0</td>\n",
              "      <td>77860.0</td>\n",
              "    </tr>\n",
              "  </tbody>\n",
              "</table>\n",
              "<p>234 rows × 44 columns</p>\n",
              "</div>\n",
              "      <button class=\"colab-df-convert\" onclick=\"convertToInteractive('df-951f1b3d-fff6-4b3a-98a3-7a3fe03ce8ad')\"\n",
              "              title=\"Convert this dataframe to an interactive table.\"\n",
              "              style=\"display:none;\">\n",
              "        \n",
              "  <svg xmlns=\"http://www.w3.org/2000/svg\" height=\"24px\"viewBox=\"0 0 24 24\"\n",
              "       width=\"24px\">\n",
              "    <path d=\"M0 0h24v24H0V0z\" fill=\"none\"/>\n",
              "    <path d=\"M18.56 5.44l.94 2.06.94-2.06 2.06-.94-2.06-.94-.94-2.06-.94 2.06-2.06.94zm-11 1L8.5 8.5l.94-2.06 2.06-.94-2.06-.94L8.5 2.5l-.94 2.06-2.06.94zm10 10l.94 2.06.94-2.06 2.06-.94-2.06-.94-.94-2.06-.94 2.06-2.06.94z\"/><path d=\"M17.41 7.96l-1.37-1.37c-.4-.4-.92-.59-1.43-.59-.52 0-1.04.2-1.43.59L10.3 9.45l-7.72 7.72c-.78.78-.78 2.05 0 2.83L4 21.41c.39.39.9.59 1.41.59.51 0 1.02-.2 1.41-.59l7.78-7.78 2.81-2.81c.8-.78.8-2.07 0-2.86zM5.41 20L4 18.59l7.72-7.72 1.47 1.35L5.41 20z\"/>\n",
              "  </svg>\n",
              "      </button>\n",
              "      \n",
              "  <style>\n",
              "    .colab-df-container {\n",
              "      display:flex;\n",
              "      flex-wrap:wrap;\n",
              "      gap: 12px;\n",
              "    }\n",
              "\n",
              "    .colab-df-convert {\n",
              "      background-color: #E8F0FE;\n",
              "      border: none;\n",
              "      border-radius: 50%;\n",
              "      cursor: pointer;\n",
              "      display: none;\n",
              "      fill: #1967D2;\n",
              "      height: 32px;\n",
              "      padding: 0 0 0 0;\n",
              "      width: 32px;\n",
              "    }\n",
              "\n",
              "    .colab-df-convert:hover {\n",
              "      background-color: #E2EBFA;\n",
              "      box-shadow: 0px 1px 2px rgba(60, 64, 67, 0.3), 0px 1px 3px 1px rgba(60, 64, 67, 0.15);\n",
              "      fill: #174EA6;\n",
              "    }\n",
              "\n",
              "    [theme=dark] .colab-df-convert {\n",
              "      background-color: #3B4455;\n",
              "      fill: #D2E3FC;\n",
              "    }\n",
              "\n",
              "    [theme=dark] .colab-df-convert:hover {\n",
              "      background-color: #434B5C;\n",
              "      box-shadow: 0px 1px 3px 1px rgba(0, 0, 0, 0.15);\n",
              "      filter: drop-shadow(0px 1px 2px rgba(0, 0, 0, 0.3));\n",
              "      fill: #FFFFFF;\n",
              "    }\n",
              "  </style>\n",
              "\n",
              "      <script>\n",
              "        const buttonEl =\n",
              "          document.querySelector('#df-951f1b3d-fff6-4b3a-98a3-7a3fe03ce8ad button.colab-df-convert');\n",
              "        buttonEl.style.display =\n",
              "          google.colab.kernel.accessAllowed ? 'block' : 'none';\n",
              "\n",
              "        async function convertToInteractive(key) {\n",
              "          const element = document.querySelector('#df-951f1b3d-fff6-4b3a-98a3-7a3fe03ce8ad');\n",
              "          const dataTable =\n",
              "            await google.colab.kernel.invokeFunction('convertToInteractive',\n",
              "                                                     [key], {});\n",
              "          if (!dataTable) return;\n",
              "\n",
              "          const docLinkHtml = 'Like what you see? Visit the ' +\n",
              "            '<a target=\"_blank\" href=https://colab.research.google.com/notebooks/data_table.ipynb>data table notebook</a>'\n",
              "            + ' to learn more about interactive tables.';\n",
              "          element.innerHTML = '';\n",
              "          dataTable['output_type'] = 'display_data';\n",
              "          await google.colab.output.renderOutput(dataTable, element);\n",
              "          const docLink = document.createElement('div');\n",
              "          docLink.innerHTML = docLinkHtml;\n",
              "          element.appendChild(docLink);\n",
              "        }\n",
              "      </script>\n",
              "    </div>\n",
              "  </div>\n",
              "  "
            ]
          },
          "metadata": {},
          "execution_count": 73
        }
      ]
    },
    {
      "cell_type": "markdown",
      "source": [
        "## 8. x_train변수의 특성(열)들에 최대값과 최소값들을 구하시오."
      ],
      "metadata": {
        "id": "tTZKlEzvLM8s"
      }
    },
    {
      "cell_type": "markdown",
      "source": [
        "```\n",
        "아래 셀의 코드 작성\n",
        "```"
      ],
      "metadata": {
        "id": "bWdavKMrv-TA"
      }
    },
    {
      "cell_type": "code",
      "source": [
        "x_max = x_train.max(axis=1)\n",
        "x_min = x_train.min(axis=1)\n",
        "x_max, x_min"
      ],
      "metadata": {
        "id": "USpZN0Fvv92X",
        "colab": {
          "base_uri": "https://localhost:8080/"
        },
        "outputId": "33539e2d-095b-4f8d-dca7-78551faf2a24"
      },
      "execution_count": 74,
      "outputs": [
        {
          "output_type": "execute_result",
          "data": {
            "text/plain": [
              "(array([96800., 96800., 96800., 96800., 96800., 96800., 91800., 91800.,\n",
              "        91800., 91800., 89900., 89900., 89900., 89900., 89900., 89900.,\n",
              "        89200., 87700., 86400., 86400., 86400., 86400., 86000., 86000.,\n",
              "        86000., 86000., 86000., 86000., 86000., 86000., 85400., 85400.,\n",
              "        85400., 85400., 85400., 85400., 85400., 85300., 85300., 84000.,\n",
              "        83500., 83800., 83800., 83800., 83800., 83800., 83800., 83800.,\n",
              "        83800., 83800., 83800., 83000., 85200., 86000., 86200., 86200.,\n",
              "        86200., 86200., 86200., 86200., 86200., 86200., 86200., 86200.,\n",
              "        86200., 85700., 84900., 84700., 84700., 84700., 84700., 84700.,\n",
              "        84000., 84000., 83500., 83500., 83500., 83500., 83500., 83500.,\n",
              "        83500., 83500., 83500., 83500., 83500., 83500., 83500., 82600.,\n",
              "        81500., 81500., 81500., 81500., 81500., 81500., 83000., 83000.,\n",
              "        83000., 83000., 83000., 83000., 83000., 83000., 83000., 83000.,\n",
              "        82800., 82800., 82600., 82000., 81900., 81900., 81900., 82000.,\n",
              "        82100., 82100., 82100., 82100., 82100., 82100., 82100., 82100.,\n",
              "        82100., 82100., 81400., 81300., 81300., 81300., 81300., 81300.,\n",
              "        81200., 80600., 80600., 80600., 80600., 80600., 80100., 79900.,\n",
              "        79900., 81400., 83100., 83300., 83300., 83300., 83300., 83300.,\n",
              "        83300., 83300., 83300., 83300., 83300., 82500., 82400., 82400.,\n",
              "        79800., 78200., 76600., 76600., 76700., 77100., 77100., 77100.,\n",
              "        77600., 77600., 77600., 77600., 77600., 77600., 77700., 77700.,\n",
              "        77700., 77700., 77700., 77700., 77700., 77800., 77800., 77800.,\n",
              "        77800., 77800., 77800., 77800., 77800., 77800., 77800., 75300.,\n",
              "        74800., 74000., 73000., 72800., 72400., 72400., 71000., 71500.,\n",
              "        71500., 72200., 72200., 72200., 72200., 72200., 72200., 72200.,\n",
              "        72200., 72200., 72200., 72200., 72200., 72200., 72000., 72000.,\n",
              "        72000., 72000., 75200., 76000., 76200., 76200., 76200., 76200.,\n",
              "        76200., 76200., 76200., 76200., 76700., 77700., 78600., 78600.,\n",
              "        78600., 78600., 78600., 78600., 78600., 78600., 78600., 78600.,\n",
              "        79400., 80000.]),\n",
              " array([80200., 81600., 82100., 82700., 83000., 83600., 83600., 83600.,\n",
              "        83600., 83200., 82000., 81000., 81000., 81000., 81000., 81000.,\n",
              "        81000., 81000., 81000., 81000., 81000., 81600., 81600., 81000.,\n",
              "        81000., 81000., 81000., 81000., 81000., 81000., 81000., 81000.,\n",
              "        81000., 81100., 80600., 80600., 80600., 80600., 80600., 80600.,\n",
              "        80600., 80600., 80600., 80600., 80700., 80700., 80700., 80700.,\n",
              "        80700., 80700., 80700., 80700., 80700., 80700., 80700., 80800.,\n",
              "        81000., 81000., 81300., 81400., 82000., 82800., 82800., 82800.,\n",
              "        82800., 82500., 82400., 81600., 81600., 81600., 81600., 81500.,\n",
              "        81500., 81000., 81000., 81000., 81000., 81000., 81000., 79800.,\n",
              "        78400., 78400., 78400., 78400., 78400., 78400., 78400., 78400.,\n",
              "        78400., 78400., 78900., 79100., 79100., 79100., 79100., 79100.,\n",
              "        79100., 79100., 79100., 79400., 79600., 80100., 80300., 80500.,\n",
              "        80500., 80500., 79600., 79600., 79600., 79600., 79600., 79600.,\n",
              "        79600., 79600., 79600., 79600., 79900., 79900., 79900., 79900.,\n",
              "        79000., 79000., 79000., 79000., 79000., 79000., 78800., 78400.,\n",
              "        78400., 78400., 78400., 78400., 78400., 78100., 78100., 78100.,\n",
              "        78100., 78100., 78100., 78100., 78100., 78100., 78100., 78500.,\n",
              "        76900., 74100., 74000., 73100., 73100., 72500., 72500., 72500.,\n",
              "        72500., 72500., 72500., 72500., 72500., 72500., 72500., 73000.,\n",
              "        73800., 73800., 73800., 73800., 74200., 74300., 74800., 74800.,\n",
              "        74800., 74800., 74800., 74800., 74800., 74800., 73800., 73700.,\n",
              "        72900., 71400., 71200., 71200., 71200., 68700., 68300., 68300.,\n",
              "        68300., 68300., 68300., 68300., 68300., 68300., 68300., 68300.,\n",
              "        68800., 69200., 69200., 69500., 69500., 69500., 69500., 69500.,\n",
              "        69500., 69500., 69500., 69600., 69600., 69600., 69600., 69600.,\n",
              "        69600., 69600., 69600., 69600., 69600., 69900., 70100., 70100.,\n",
              "        70100., 70100., 70100., 70500., 70500., 70500., 70500., 70500.,\n",
              "        70500., 70500., 71600., 73800., 74100., 74900., 75600., 76200.,\n",
              "        76200., 76200.]))"
            ]
          },
          "metadata": {},
          "execution_count": 74
        }
      ]
    },
    {
      "cell_type": "markdown",
      "source": [
        "- 강사님 코드"
      ],
      "metadata": {
        "id": "oRlq9l_sXAOO"
      }
    },
    {
      "cell_type": "code",
      "source": [
        "mins, maxs = np.quantile(x_train,[0,1],axis=0)\n",
        "mins , maxs"
      ],
      "metadata": {
        "colab": {
          "base_uri": "https://localhost:8080/"
        },
        "id": "bS-Vy_ilWdHI",
        "outputId": "29778c80-0467-49d0-c6e8-630e89b1cdc0"
      },
      "execution_count": 75,
      "outputs": [
        {
          "output_type": "execute_result",
          "data": {
            "text/plain": [
              "(array([68700., 69600., 68300., 68800., 68700., 69600., 68300., 68800.,\n",
              "        68700., 69600., 68300., 68800., 68700., 69600., 68300., 68800.,\n",
              "        68700., 69600., 68300., 68800., 68700., 69600., 68300., 68800.,\n",
              "        68700., 69600., 68300., 68800., 68700., 69600., 68300., 68800.,\n",
              "        68700., 69600., 68300., 68800., 68700., 69600., 68300., 68800.,\n",
              "        70040., 70550., 69510., 69920.]),\n",
              " array([90300., 96800., 89500., 91000., 90300., 96800., 89500., 91000.,\n",
              "        90300., 96800., 89500., 91000., 90300., 96800., 89500., 91000.,\n",
              "        90300., 96800., 89500., 91000., 90300., 96800., 89500., 91000.,\n",
              "        90300., 91800., 89100., 90600., 89800., 91800., 89100., 89700.,\n",
              "        89800., 91800., 88700., 89700., 89800., 91800., 88000., 89400.,\n",
              "        88520., 90410., 87060., 88510.]))"
            ]
          },
          "metadata": {},
          "execution_count": 75
        }
      ]
    },
    {
      "cell_type": "markdown",
      "source": [
        "## 9.x_train변수의 특성(열)들에 분위수기준으로 5% 지점값들과 95% 지점값들을 구하시오"
      ],
      "metadata": {
        "id": "exwQ_QfLKqo8"
      }
    },
    {
      "cell_type": "markdown",
      "source": [
        "```\n",
        "아래 셀의 코드 작성\n",
        "```"
      ],
      "metadata": {
        "id": "sozvTR0Zv_en"
      }
    },
    {
      "cell_type": "code",
      "source": [
        "x_min, x_max = np.quantile(x_train,[0.05,0.95],axis = 0)\n",
        "x_min.shape, x_max.shape"
      ],
      "metadata": {
        "colab": {
          "base_uri": "https://localhost:8080/"
        },
        "id": "Wf1Fh8c-L2OH",
        "outputId": "43c4c9e9-010b-4eac-94f2-b04dfd96da2a"
      },
      "execution_count": 76,
      "outputs": [
        {
          "output_type": "execute_result",
          "data": {
            "text/plain": [
              "((44,), (44,))"
            ]
          },
          "metadata": {},
          "execution_count": 76
        }
      ]
    },
    {
      "cell_type": "markdown",
      "source": [
        "- 강사님 코드"
      ],
      "metadata": {
        "id": "dsL11CL4XRxJ"
      }
    },
    {
      "cell_type": "code",
      "source": [
        "mins , maxs = np.quantile(x_train,[0.05,0.95],axis=0)\n",
        "mins.shape , maxs.shape"
      ],
      "metadata": {
        "colab": {
          "base_uri": "https://localhost:8080/"
        },
        "id": "WHHW7nAqXLU9",
        "outputId": "5e84e403-33c1-4e5e-c7bd-842c7d57f846"
      },
      "execution_count": 77,
      "outputs": [
        {
          "output_type": "execute_result",
          "data": {
            "text/plain": [
              "((44,), (44,))"
            ]
          },
          "metadata": {},
          "execution_count": 77
        }
      ]
    },
    {
      "cell_type": "markdown",
      "source": [
        "## 10. 이상치를 제거해보기\n",
        "- x_train변수의 특성(열)들에 분위수 기준 5% 지점의 미만값들을 5% 지점값으로 변경하고\n",
        "- 95% 지점을 초과하는 값들을 95% 지점값으로 변경해보세요."
      ],
      "metadata": {
        "id": "qcn-A8ULQdLh"
      }
    },
    {
      "cell_type": "markdown",
      "source": [
        "```\n",
        "아래 셀의 코드 작성\n",
        "```"
      ],
      "metadata": {
        "id": "caF6sphVwAvH"
      }
    },
    {
      "cell_type": "code",
      "source": [
        "quantile_05 = np.quantile(x_train,0.05)\n",
        "quantile_95 = np.quantile(x_train,0.95)\n",
        "idx = quantile_95 - quantile_05\n",
        "\n",
        "minimum = quantile_05 - 1.5 * idx\n",
        "maximum = quantile_95 + 1.5 * idx\n",
        "\n",
        "arr = x_train[(minimum <= x_train) & (x_train <= maximum)]\n",
        "x_train2 = arr.reshape(234,-1)\n",
        "x_train2"
      ],
      "metadata": {
        "id": "u5RJRpk_wAf_",
        "colab": {
          "base_uri": "https://localhost:8080/"
        },
        "outputId": "15768518-f2e8-43f7-b4d1-9b1985404904"
      },
      "execution_count": 78,
      "outputs": [
        {
          "output_type": "execute_result",
          "data": {
            "text/plain": [
              "array([[81000., 84400., 80200., ..., 88820., 85270., 86980.],\n",
              "       [81600., 83900., 81600., ..., 89110., 85660., 87180.],\n",
              "       [83300., 84500., 82100., ..., 89520., 85860., 87490.],\n",
              "       ...,\n",
              "       [78300., 78600., 77100., ..., 78010., 76840., 77490.],\n",
              "       [77400., 78200., 77000., ..., 78090., 77010., 77690.],\n",
              "       [77400., 77600., 76800., ..., 78270., 77240., 77860.]])"
            ]
          },
          "metadata": {},
          "execution_count": 78
        }
      ]
    },
    {
      "cell_type": "code",
      "source": [
        "x_train.shape[0],x_train2.shape[0]"
      ],
      "metadata": {
        "colab": {
          "base_uri": "https://localhost:8080/"
        },
        "id": "U5cYAs8SoizE",
        "outputId": "5e944045-8543-422e-95ea-a780fa6ae861"
      },
      "execution_count": 79,
      "outputs": [
        {
          "output_type": "execute_result",
          "data": {
            "text/plain": [
              "(234, 234)"
            ]
          },
          "metadata": {},
          "execution_count": 79
        }
      ]
    },
    {
      "cell_type": "code",
      "source": [
        "np.clip(x_train, mins , maxs)"
      ],
      "metadata": {
        "colab": {
          "base_uri": "https://localhost:8080/"
        },
        "id": "91dajsS9LKlL",
        "outputId": "a0610f03-f5c6-49d9-9d3a-b36a9808a53e"
      },
      "execution_count": 80,
      "outputs": [
        {
          "output_type": "execute_result",
          "data": {
            "text/plain": [
              "array([[81000. , 84400. , 80200. , ..., 87506. , 84803.5, 85781. ],\n",
              "       [81600. , 83900. , 81600. , ..., 87506. , 84803.5, 85781. ],\n",
              "       [83300. , 84500. , 82100. , ..., 87506. , 84803.5, 85781. ],\n",
              "       ...,\n",
              "       [78300. , 78600. , 77100. , ..., 78010. , 76840. , 77490. ],\n",
              "       [77400. , 78200. , 77000. , ..., 78090. , 77010. , 77690. ],\n",
              "       [77400. , 77600. , 76800. , ..., 78270. , 77240. , 77860. ]])"
            ]
          },
          "metadata": {},
          "execution_count": 80
        }
      ]
    },
    {
      "cell_type": "markdown",
      "source": [
        "## 11.x_train 데이터셋에서 20%의 데이터의 인덱스들을 리스트(배열 가능)에 담아 5번 랜덤하게 반환하는 제너레이터(리스트 형태로 반환 가능) 함수를 만들어주세요\n",
        "- 단, 5번 랜덤하게 반환하는 과정에서 동일한 행의 인덱스가 나오면 안된다.\n",
        "    - 한번 나온 행의 인덱스는 다시 나오면 안된다는 의미\n",
        "    - 모든 행의 인덱스가 한번씩은 무조건 나와야한다.\n",
        "- 234행 나누기 5를 할경우 나머지가 생기기 때문에 5번째 나오는 인덱스가 담긴 리스트 혹은 배열의 크기는 앞서 나온 크기와 차이가 나도 된다.  \n",
        "- 제너레이터가 어려우신 분들은 그냥 인덱스들을 담고 있는 리스트(배열)들을 리스트에 담아서 return 하셔도 됩니다."
      ],
      "metadata": {
        "id": "rmV9SX4ER6rd"
      }
    },
    {
      "cell_type": "markdown",
      "source": [
        "```\n",
        "아래 셀의 코드 작성하여 함수 구현\n",
        "```"
      ],
      "metadata": {
        "id": "Wnq0rJOJwDXv"
      }
    },
    {
      "cell_type": "markdown",
      "source": [
        "### yield를 이용한 방식"
      ],
      "metadata": {
        "id": "mMnK8i4zMUBX"
      }
    },
    {
      "cell_type": "code",
      "source": [
        "def split_dataset(dataset):\n",
        "    # 나중에 파라미터로 받을수도 있으니 지역변수 선언\n",
        "    n_split = 5\n",
        "    seed = 42\n",
        "\n",
        "    n_row = len(dataset) # 총 개수\n",
        "    index_arr = np.arange(n_row) # 인덱스\n",
        "\n",
        "    np.random.seed(seed)\n",
        "    np.random.shuffle(index_arr) # 랜덤하게 뽑기위해 섞기\n",
        "    n_samples = n_row // n_split \n",
        "    for i in range(n_split): \n",
        "        start = i*n_samples\n",
        "        end = start + n_samples  \n",
        "        if i+1 == n_split: \n",
        "            end =  n_row \n",
        "        yield index_arr[start:end] "
      ],
      "metadata": {
        "id": "ig82XYSpnOzC"
      },
      "execution_count": 81,
      "outputs": []
    },
    {
      "cell_type": "markdown",
      "source": [
        "- 다음 셀은 위에 함수 실행 결과를 검증하는 부분"
      ],
      "metadata": {
        "id": "9L3tgcXBwOtn"
      }
    },
    {
      "cell_type": "code",
      "source": [
        "index_list = split_dataset(x_train)\n",
        "lst = [] # 중복 인덱스가 있는지 확인하기 위한 리스트\n",
        "for idx in index_list:\n",
        "    print(idx)  # 리스트 내용 확인\n",
        "    lst.extend(idx) # 중복 인덱스가 있는지 확인하기 위해 리스트에 담기\n",
        "len(set(lst)) # 중복 제거후 크기가 데이터셋 크기와 같다면 성공!! 즉 234개면 성공!!"
      ],
      "metadata": {
        "id": "EYRHClmInX7m",
        "colab": {
          "base_uri": "https://localhost:8080/"
        },
        "outputId": "fbd02994-5425-4e48-c0a6-798b0fc763a7"
      },
      "execution_count": 82,
      "outputs": [
        {
          "output_type": "stream",
          "name": "stdout",
          "text": [
            "[ 69 206 180   9 127 109 196  93 213  15 224  55 227  30 201 147  19 112\n",
            " 225  24 208  10  95 144 220  25  86 183  84  18 146  66  45 139 125 170\n",
            " 164  16 156 177 161 203 124  60 199 229]\n",
            "[ 82 117 155 148 158 231 162 218 108  97 168  73  38 104 172 171 111 221\n",
            "  67 217 113  68  75  29 114 126  79   5  56 120 141 152  65 135 198 138\n",
            "  31  12  35  28  42  96 119 209  51 184]\n",
            "[185  76  41 101 142  78 137  26 153 192 186   0   2  77  46 100 115 140\n",
            " 167  90  85 165 154  98  36 136  61  22 118 215 132  33  11 228 182   6\n",
            "  27 143   4 122  32 181  62 128 223 175]\n",
            "[ 70 178  64  44 150  40 123  23 173 197  81  39 195  47  94 176  43 145\n",
            " 159   3 105  53 133 211 232 216  49 163  80  34   7 110  91  83 207 212\n",
            "  89   8  13  59 200 131  17 166  72 204]\n",
            "[134 190 222  63  54 107  50 193 174 194 189 230 205 169  58  48  88  21\n",
            "  57 160 226 187 191 129  37 157 219   1  52 149 130 151 103  99 116  87\n",
            " 202  74 214 210 121 233  20 188  71 106  14  92 179 102]\n"
          ]
        },
        {
          "output_type": "execute_result",
          "data": {
            "text/plain": [
              "234"
            ]
          },
          "metadata": {},
          "execution_count": 82
        }
      ]
    },
    {
      "cell_type": "markdown",
      "source": [
        "### yield from을 이용한 방식"
      ],
      "metadata": {
        "id": "R9gnlRJPMeSv"
      }
    },
    {
      "cell_type": "code",
      "source": [
        "def split_dataset(dataset):\n",
        "    # 나중에 파라미터로 받을수도 있으니 지역변수 선언\n",
        "    n_split = 5\n",
        "    seed = 42\n",
        "\n",
        "    n_row = len(dataset) # 총 개수\n",
        "    index_arr = np.arange(n_row) # 인덱스\n",
        "\n",
        "    np.random.seed(seed)  \n",
        "    np.random.shuffle(index_arr) # 랜덤하게 뽑기위해 섞기\n",
        "    n_samples = n_row // n_split # 20% 의 데이터셋 개수\n",
        "    n_sub = n_row - n_samples * n_split \n",
        "    index_list = index_arr[:n_row-n_sub].reshape(n_split,-1).tolist()\n",
        "\n",
        "    if n_sub > 0: # 남는개수가 있다면..\n",
        "        index_list[-1].extend(list(index_arr[n_row-n_sub:])) # 마지막 인덱스 리스트에 추가 확장\n",
        "    yield from index_list "
      ],
      "metadata": {
        "id": "Bpt1nud0Mdf-"
      },
      "execution_count": 83,
      "outputs": []
    },
    {
      "cell_type": "code",
      "source": [
        "index_list = split_dataset(x_train)\n",
        "lst = [] # 중복 인덱스가 있는지 확인하기 위한 리스트\n",
        "for idx in index_list:\n",
        "    print(idx)  # 리스트 내용 확인\n",
        "    lst.extend(idx) # 중복 인덱스가 있는지 확인하기 위해 리스트에 담기\n",
        "len(set(lst)) # 중복 제거후 크기가 데이터셋 크기와 같다면 성공!! 즉 234개면 성공!!"
      ],
      "metadata": {
        "colab": {
          "base_uri": "https://localhost:8080/"
        },
        "id": "QVLRxtoYMocP",
        "outputId": "243462f1-4dd4-48af-f0e8-60ea8e5e64dc"
      },
      "execution_count": 84,
      "outputs": [
        {
          "output_type": "stream",
          "name": "stdout",
          "text": [
            "[69, 206, 180, 9, 127, 109, 196, 93, 213, 15, 224, 55, 227, 30, 201, 147, 19, 112, 225, 24, 208, 10, 95, 144, 220, 25, 86, 183, 84, 18, 146, 66, 45, 139, 125, 170, 164, 16, 156, 177, 161, 203, 124, 60, 199, 229]\n",
            "[82, 117, 155, 148, 158, 231, 162, 218, 108, 97, 168, 73, 38, 104, 172, 171, 111, 221, 67, 217, 113, 68, 75, 29, 114, 126, 79, 5, 56, 120, 141, 152, 65, 135, 198, 138, 31, 12, 35, 28, 42, 96, 119, 209, 51, 184]\n",
            "[185, 76, 41, 101, 142, 78, 137, 26, 153, 192, 186, 0, 2, 77, 46, 100, 115, 140, 167, 90, 85, 165, 154, 98, 36, 136, 61, 22, 118, 215, 132, 33, 11, 228, 182, 6, 27, 143, 4, 122, 32, 181, 62, 128, 223, 175]\n",
            "[70, 178, 64, 44, 150, 40, 123, 23, 173, 197, 81, 39, 195, 47, 94, 176, 43, 145, 159, 3, 105, 53, 133, 211, 232, 216, 49, 163, 80, 34, 7, 110, 91, 83, 207, 212, 89, 8, 13, 59, 200, 131, 17, 166, 72, 204]\n",
            "[134, 190, 222, 63, 54, 107, 50, 193, 174, 194, 189, 230, 205, 169, 58, 48, 88, 21, 57, 160, 226, 187, 191, 129, 37, 157, 219, 1, 52, 149, 130, 151, 103, 99, 116, 87, 202, 74, 214, 210, 121, 233, 20, 188, 71, 106, 14, 92, 179, 102]\n"
          ]
        },
        {
          "output_type": "execute_result",
          "data": {
            "text/plain": [
              "234"
            ]
          },
          "metadata": {},
          "execution_count": 84
        }
      ]
    },
    {
      "cell_type": "markdown",
      "source": [
        "## 12.시계열 학습데이터 만들기\n",
        "- 다음의 데이터는 2021년도 삼성 주식 데이터이다.\n",
        "- 열부분은 시작가 ,상한가 , 하한가, 종가 순으로 되어있다.\n",
        "- 행은 2021년도 거래 일자이다."
      ],
      "metadata": {
        "id": "gXermKdySLqG"
      }
    },
    {
      "cell_type": "code",
      "source": [
        "samsung_stock = np.load(\"samsung_stock_2021.npy\")\n",
        "samsung_stock.shape"
      ],
      "metadata": {
        "colab": {
          "base_uri": "https://localhost:8080/"
        },
        "id": "EOOg1VMfCHWs",
        "outputId": "6f986220-7faa-4d0d-9afc-ec91876a4d53"
      },
      "execution_count": 85,
      "outputs": [
        {
          "output_type": "execute_result",
          "data": {
            "text/plain": [
              "(248, 4)"
            ]
          },
          "metadata": {},
          "execution_count": 85
        }
      ]
    },
    {
      "cell_type": "code",
      "source": [
        "samsung_stock[-5:] # 뒤에 5행만 확인해보자"
      ],
      "metadata": {
        "colab": {
          "base_uri": "https://localhost:8080/"
        },
        "id": "ppuNISdgD4bF",
        "outputId": "382a2acf-f28a-43f2-b120-12eb91f68e4b"
      },
      "execution_count": 86,
      "outputs": [
        {
          "output_type": "execute_result",
          "data": {
            "text/plain": [
              "array([[80200, 80800, 80200, 80500],\n",
              "       [80600, 80600, 79800, 80200],\n",
              "       [80200, 80400, 79700, 80300],\n",
              "       [80200, 80200, 78500, 78800],\n",
              "       [78900, 79500, 78100, 78300]])"
            ]
          },
          "metadata": {},
          "execution_count": 86
        }
      ]
    },
    {
      "cell_type": "markdown",
      "source": [
        "### 시계열 학습데이터로 변환하는 함수를 만드시오.\n",
        "- samsung_stock 변수의 데이터는 2차원 데이터이다.\n",
        "- 학습데이터는 행별로 10일치의 행과 4열(시작가 ,상한가 , 하한가, 종가) 형태의 행렬을 담고 있는 3차원 형태의 데이터셋으로 변경하시오.\n",
        "- 정답데이터는 미래의 5일치의 종가를 예측해야 한다는 가정하에 행별로 미래의 5일치의 종가가 담긴 2차원 형태의 데이터셋으로 변경하시오. \n",
        "- 1일씩 이동하면서 데이터셋을 구성하시오."
      ],
      "metadata": {
        "id": "d_-6S07lqYMU"
      }
    },
    {
      "cell_type": "markdown",
      "source": [
        "```\n",
        "아래 셀의 코드 작성하여 함수 구현\n",
        "```"
      ],
      "metadata": {
        "id": "l4czp5GLwbBe"
      }
    },
    {
      "cell_type": "code",
      "source": [
        "def transform_data(samsung_stock,seq_len=10,pred_len=5):\n",
        "    x_train = []\n",
        "    y_train = []\n",
        "    for i in range(seq_len,samsung_stock.shape[0] + 1  - pred_len): #  마지막 하나가 빠짐... 1 더해주기\n",
        "        x = samsung_stock[i-seq_len:i] \n",
        "        y = samsung_stock[i:i+pred_len,3] \n",
        "        x_train.append(x)\n",
        "        y_train.append(y)\n",
        "\n",
        "    x_train = np.array(x_train)\n",
        "    y_train = np.array(y_train)\n",
        "\n",
        "    return x_train , y_train"
      ],
      "metadata": {
        "id": "19fXmkh_sc_0"
      },
      "execution_count": 87,
      "outputs": []
    },
    {
      "cell_type": "markdown",
      "source": [
        "- 다음 셀들은 위에 함수 실행 결과를 검증하는 부분"
      ],
      "metadata": {
        "id": "ydX2bySGwg3u"
      }
    },
    {
      "cell_type": "code",
      "source": [
        "x_train , y_train = transform_data(samsung_stock)\n",
        "x_train.shape, y_train.shape # ((234, 10, 4), (234, 5))"
      ],
      "metadata": {
        "id": "badc864kwdtq",
        "colab": {
          "base_uri": "https://localhost:8080/"
        },
        "outputId": "aace0a61-aaa5-459c-cff0-e46a522724a0"
      },
      "execution_count": 88,
      "outputs": [
        {
          "output_type": "execute_result",
          "data": {
            "text/plain": [
              "((234, 10, 4), (234, 5))"
            ]
          },
          "metadata": {},
          "execution_count": 88
        }
      ]
    },
    {
      "cell_type": "code",
      "source": [
        "x_samsung_stock = np.load(\"samsung_stock_2021_3d.npy\")\n",
        "y_samsung_stock = np.load(\"y_train.npy\")\n",
        "np.all(x_samsung_stock == x_train) , np.all(y_samsung_stock == y_train) # 둘다 True 가 나와야 성공!!"
      ],
      "metadata": {
        "id": "eZuIW9iTshva",
        "colab": {
          "base_uri": "https://localhost:8080/"
        },
        "outputId": "5f2360a6-a0c6-479f-d17c-8674f155cea2"
      },
      "execution_count": 89,
      "outputs": [
        {
          "output_type": "execute_result",
          "data": {
            "text/plain": [
              "(True, True)"
            ]
          },
          "metadata": {},
          "execution_count": 89
        }
      ]
    },
    {
      "cell_type": "markdown",
      "source": [
        "### 강사님 코드"
      ],
      "metadata": {
        "id": "mmSX_JEdNDYi"
      }
    },
    {
      "cell_type": "code",
      "source": [
        "def transform_data(samsung_stock,seq_len=10,pred_len=5):\n",
        "    window_size = seq_len + pred_len\n",
        "    window_arr = [\n",
        "        samsung_stock[i-window_size:i]\n",
        "        for i in range(window_size ,samsung_stock.shape[0] + 1) #  마지막 하나가 빠짐... 1 더해주기\n",
        "    ]\n",
        "\n",
        "    window_arr = np.array(window_arr)\n",
        "    x_train = window_arr[:,:seq_len]\n",
        "    y_train = window_arr[:,seq_len:,3]\n",
        "\n",
        "    return x_train , y_train\n",
        "\n",
        "\n",
        "x_train , y_train = transform_data(samsung_stock)\n",
        "x_train.shape, y_train.shape # ((234, 10, 4), (234, 5))"
      ],
      "metadata": {
        "colab": {
          "base_uri": "https://localhost:8080/"
        },
        "id": "ZwZ4TqsjNFji",
        "outputId": "1a9c461e-8b6a-46b2-988b-a4be2aa9194c"
      },
      "execution_count": 92,
      "outputs": [
        {
          "output_type": "execute_result",
          "data": {
            "text/plain": [
              "((234, 10, 4), (234, 5))"
            ]
          },
          "metadata": {},
          "execution_count": 92
        }
      ]
    },
    {
      "cell_type": "code",
      "source": [
        "x_samsung_stock = np.load(\"samsung_stock_2021_3d.npy\")\n",
        "y_samsung_stock = np.load(\"y_train.npy\")\n",
        "np.all(x_samsung_stock == x_train) , np.all(y_samsung_stock == y_train) # 둘다 True 가 나와야 성공!!"
      ],
      "metadata": {
        "colab": {
          "base_uri": "https://localhost:8080/"
        },
        "id": "zdlLOK5qNJ_L",
        "outputId": "07fdf300-372f-45a6-a34b-80f4bc61e0af"
      },
      "execution_count": 91,
      "outputs": [
        {
          "output_type": "execute_result",
          "data": {
            "text/plain": [
              "(True, True)"
            ]
          },
          "metadata": {},
          "execution_count": 91
        }
      ]
    },
    {
      "cell_type": "markdown",
      "source": [
        "- 위에 두개의 예시 모두 데이터가 수만건 혹은 수십만건일 경우 수십만 , 수만의 반복을 통해 데이터가 만들어진다.\n",
        "- 시계열 학습데이터로 변환과정에서 몇분에서 몇십분의 시간소요가 발생한다.\n",
        "- 개발자의 기본소양중에 하나로 코드실행이 오래 걸리는걸 극도로 싫어해야한다.\n",
        "- 데이터가 수만건이 있던 수십만건이 있던 동일하게 시계열 데이터로 변환을 수초내로 할수있다.\n",
        "\n"
      ],
      "metadata": {
        "id": "gmhjRRVgNNh-"
      }
    }
  ]
}
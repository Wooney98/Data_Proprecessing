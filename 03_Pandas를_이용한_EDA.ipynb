{
  "nbformat": 4,
  "nbformat_minor": 0,
  "metadata": {
    "colab": {
      "provenance": [],
      "collapsed_sections": [],
      "authorship_tag": "ABX9TyNhatBl0TrvOjB4HY4ZBe7L"
    },
    "kernelspec": {
      "name": "python3",
      "display_name": "Python 3"
    },
    "language_info": {
      "name": "python"
    }
  },
  "cells": [
    {
      "cell_type": "markdown",
      "source": [
        "# EDA(Exploratory Data Analysis)\n",
        "- 탐색적 데이터 분석\n",
        "- 데이터를 분석하고 결과를 도출하는 과정에 있어서 지속적으로 해당 데이터에 대한 탐색과 이해를 기본적으로 가져야한다는 의미\n",
        "\n",
        "## 데이터 종류\n",
        "- 수치형 데이터\n",
        "    - 연속형\n",
        "        - 일정범위 안에서 어떤값도 취할수 있는 실수형 데이터(ex. 온도, 키, 운임료)\n",
        "    - 이산형\n",
        "        - 횟수 같은 정수형 데이터(ex. 사건에 대한 발생 횟수, 부모 자식수)\n",
        "- 범주형 데이터\n",
        "    - 가능한 범주안의 값만 취할수 있는 데이터\n",
        "    - 성별: 남/여 (명목형)\n",
        "    - 전공: 경영학/교육학/인문학 (명목형)\n",
        "    - 장르: 스릴러/공포/드라마 (명목형)\n",
        "    - 영화평점: 1/2/3/4/5 (순서형)\n",
        "    - 직급: 사원/대리/과장/차장/부장 (순서형)"
      ],
      "metadata": {
        "id": "BR5ytTnvm7bb"
      }
    },
    {
      "cell_type": "code",
      "execution_count": null,
      "metadata": {
        "id": "v3uoBbPqmxAm"
      },
      "outputs": [],
      "source": [
        "import pandas as pd"
      ]
    },
    {
      "cell_type": "code",
      "source": [
        "from google.colab import drive\n",
        "drive.mount(\"/content/drive\")"
      ],
      "metadata": {
        "colab": {
          "base_uri": "https://localhost:8080/"
        },
        "id": "7ZXM6BpTpfo0",
        "outputId": "bb99f444-e4ae-40a6-fa75-6c21ec4b2801"
      },
      "execution_count": null,
      "outputs": [
        {
          "output_type": "stream",
          "name": "stdout",
          "text": [
            "Mounted at /content/drive\n"
          ]
        }
      ]
    },
    {
      "cell_type": "code",
      "source": [
        "DATA_PATH = \"/content/drive/MyDrive/Colab Notebooks/Data/\""
      ],
      "metadata": {
        "id": "V4LJtj80pkp6"
      },
      "execution_count": null,
      "outputs": []
    },
    {
      "cell_type": "markdown",
      "source": [
        "- Features, 독립변수, 설명변수\n",
        "    - 학습데이터의 특성\n",
        "- class, label, target, 종속변수\n",
        "    - 정답데이터"
      ],
      "metadata": {
        "id": "Ve9DuvoRqtpf"
      }
    },
    {
      "cell_type": "code",
      "source": [
        "df = pd.read_csv(f\"{DATA_PATH}titanic.csv\")\n",
        "df.head()"
      ],
      "metadata": {
        "colab": {
          "base_uri": "https://localhost:8080/",
          "height": 206
        },
        "id": "4hIqmzcip5xJ",
        "outputId": "fbce2b25-5ce2-4e2e-8a5f-44f353ff5936"
      },
      "execution_count": null,
      "outputs": [
        {
          "output_type": "execute_result",
          "data": {
            "text/plain": [
              "   passengerid  survived  pclass  \\\n",
              "0            1         0       3   \n",
              "1            2         1       1   \n",
              "2            3         1       3   \n",
              "3            4         1       1   \n",
              "4            5         0       3   \n",
              "\n",
              "                                                name  gender   age  sibsp  \\\n",
              "0                            Braund, Mr. Owen Harris    male  22.0      1   \n",
              "1  Cumings, Mrs. John Bradley (Florence Briggs Th...  female  38.0      1   \n",
              "2                             Heikkinen, Miss. Laina  female  26.0      0   \n",
              "3       Futrelle, Mrs. Jacques Heath (Lily May Peel)  female  35.0      1   \n",
              "4                           Allen, Mr. William Henry    male  35.0      0   \n",
              "\n",
              "   parch            ticket     fare cabin embarked  \n",
              "0      0         A/5 21171   7.2500   NaN        S  \n",
              "1      0          PC 17599  71.2833   C85        C  \n",
              "2      0  STON/O2. 3101282   7.9250   NaN        S  \n",
              "3      0            113803  53.1000  C123        S  \n",
              "4      0            373450   8.0500   NaN        S  "
            ],
            "text/html": [
              "\n",
              "  <div id=\"df-bd2e6706-f3c5-4142-99d2-70e8f6645153\">\n",
              "    <div class=\"colab-df-container\">\n",
              "      <div>\n",
              "<style scoped>\n",
              "    .dataframe tbody tr th:only-of-type {\n",
              "        vertical-align: middle;\n",
              "    }\n",
              "\n",
              "    .dataframe tbody tr th {\n",
              "        vertical-align: top;\n",
              "    }\n",
              "\n",
              "    .dataframe thead th {\n",
              "        text-align: right;\n",
              "    }\n",
              "</style>\n",
              "<table border=\"1\" class=\"dataframe\">\n",
              "  <thead>\n",
              "    <tr style=\"text-align: right;\">\n",
              "      <th></th>\n",
              "      <th>passengerid</th>\n",
              "      <th>survived</th>\n",
              "      <th>pclass</th>\n",
              "      <th>name</th>\n",
              "      <th>gender</th>\n",
              "      <th>age</th>\n",
              "      <th>sibsp</th>\n",
              "      <th>parch</th>\n",
              "      <th>ticket</th>\n",
              "      <th>fare</th>\n",
              "      <th>cabin</th>\n",
              "      <th>embarked</th>\n",
              "    </tr>\n",
              "  </thead>\n",
              "  <tbody>\n",
              "    <tr>\n",
              "      <th>0</th>\n",
              "      <td>1</td>\n",
              "      <td>0</td>\n",
              "      <td>3</td>\n",
              "      <td>Braund, Mr. Owen Harris</td>\n",
              "      <td>male</td>\n",
              "      <td>22.0</td>\n",
              "      <td>1</td>\n",
              "      <td>0</td>\n",
              "      <td>A/5 21171</td>\n",
              "      <td>7.2500</td>\n",
              "      <td>NaN</td>\n",
              "      <td>S</td>\n",
              "    </tr>\n",
              "    <tr>\n",
              "      <th>1</th>\n",
              "      <td>2</td>\n",
              "      <td>1</td>\n",
              "      <td>1</td>\n",
              "      <td>Cumings, Mrs. John Bradley (Florence Briggs Th...</td>\n",
              "      <td>female</td>\n",
              "      <td>38.0</td>\n",
              "      <td>1</td>\n",
              "      <td>0</td>\n",
              "      <td>PC 17599</td>\n",
              "      <td>71.2833</td>\n",
              "      <td>C85</td>\n",
              "      <td>C</td>\n",
              "    </tr>\n",
              "    <tr>\n",
              "      <th>2</th>\n",
              "      <td>3</td>\n",
              "      <td>1</td>\n",
              "      <td>3</td>\n",
              "      <td>Heikkinen, Miss. Laina</td>\n",
              "      <td>female</td>\n",
              "      <td>26.0</td>\n",
              "      <td>0</td>\n",
              "      <td>0</td>\n",
              "      <td>STON/O2. 3101282</td>\n",
              "      <td>7.9250</td>\n",
              "      <td>NaN</td>\n",
              "      <td>S</td>\n",
              "    </tr>\n",
              "    <tr>\n",
              "      <th>3</th>\n",
              "      <td>4</td>\n",
              "      <td>1</td>\n",
              "      <td>1</td>\n",
              "      <td>Futrelle, Mrs. Jacques Heath (Lily May Peel)</td>\n",
              "      <td>female</td>\n",
              "      <td>35.0</td>\n",
              "      <td>1</td>\n",
              "      <td>0</td>\n",
              "      <td>113803</td>\n",
              "      <td>53.1000</td>\n",
              "      <td>C123</td>\n",
              "      <td>S</td>\n",
              "    </tr>\n",
              "    <tr>\n",
              "      <th>4</th>\n",
              "      <td>5</td>\n",
              "      <td>0</td>\n",
              "      <td>3</td>\n",
              "      <td>Allen, Mr. William Henry</td>\n",
              "      <td>male</td>\n",
              "      <td>35.0</td>\n",
              "      <td>0</td>\n",
              "      <td>0</td>\n",
              "      <td>373450</td>\n",
              "      <td>8.0500</td>\n",
              "      <td>NaN</td>\n",
              "      <td>S</td>\n",
              "    </tr>\n",
              "  </tbody>\n",
              "</table>\n",
              "</div>\n",
              "      <button class=\"colab-df-convert\" onclick=\"convertToInteractive('df-bd2e6706-f3c5-4142-99d2-70e8f6645153')\"\n",
              "              title=\"Convert this dataframe to an interactive table.\"\n",
              "              style=\"display:none;\">\n",
              "        \n",
              "  <svg xmlns=\"http://www.w3.org/2000/svg\" height=\"24px\"viewBox=\"0 0 24 24\"\n",
              "       width=\"24px\">\n",
              "    <path d=\"M0 0h24v24H0V0z\" fill=\"none\"/>\n",
              "    <path d=\"M18.56 5.44l.94 2.06.94-2.06 2.06-.94-2.06-.94-.94-2.06-.94 2.06-2.06.94zm-11 1L8.5 8.5l.94-2.06 2.06-.94-2.06-.94L8.5 2.5l-.94 2.06-2.06.94zm10 10l.94 2.06.94-2.06 2.06-.94-2.06-.94-.94-2.06-.94 2.06-2.06.94z\"/><path d=\"M17.41 7.96l-1.37-1.37c-.4-.4-.92-.59-1.43-.59-.52 0-1.04.2-1.43.59L10.3 9.45l-7.72 7.72c-.78.78-.78 2.05 0 2.83L4 21.41c.39.39.9.59 1.41.59.51 0 1.02-.2 1.41-.59l7.78-7.78 2.81-2.81c.8-.78.8-2.07 0-2.86zM5.41 20L4 18.59l7.72-7.72 1.47 1.35L5.41 20z\"/>\n",
              "  </svg>\n",
              "      </button>\n",
              "      \n",
              "  <style>\n",
              "    .colab-df-container {\n",
              "      display:flex;\n",
              "      flex-wrap:wrap;\n",
              "      gap: 12px;\n",
              "    }\n",
              "\n",
              "    .colab-df-convert {\n",
              "      background-color: #E8F0FE;\n",
              "      border: none;\n",
              "      border-radius: 50%;\n",
              "      cursor: pointer;\n",
              "      display: none;\n",
              "      fill: #1967D2;\n",
              "      height: 32px;\n",
              "      padding: 0 0 0 0;\n",
              "      width: 32px;\n",
              "    }\n",
              "\n",
              "    .colab-df-convert:hover {\n",
              "      background-color: #E2EBFA;\n",
              "      box-shadow: 0px 1px 2px rgba(60, 64, 67, 0.3), 0px 1px 3px 1px rgba(60, 64, 67, 0.15);\n",
              "      fill: #174EA6;\n",
              "    }\n",
              "\n",
              "    [theme=dark] .colab-df-convert {\n",
              "      background-color: #3B4455;\n",
              "      fill: #D2E3FC;\n",
              "    }\n",
              "\n",
              "    [theme=dark] .colab-df-convert:hover {\n",
              "      background-color: #434B5C;\n",
              "      box-shadow: 0px 1px 3px 1px rgba(0, 0, 0, 0.15);\n",
              "      filter: drop-shadow(0px 1px 2px rgba(0, 0, 0, 0.3));\n",
              "      fill: #FFFFFF;\n",
              "    }\n",
              "  </style>\n",
              "\n",
              "      <script>\n",
              "        const buttonEl =\n",
              "          document.querySelector('#df-bd2e6706-f3c5-4142-99d2-70e8f6645153 button.colab-df-convert');\n",
              "        buttonEl.style.display =\n",
              "          google.colab.kernel.accessAllowed ? 'block' : 'none';\n",
              "\n",
              "        async function convertToInteractive(key) {\n",
              "          const element = document.querySelector('#df-bd2e6706-f3c5-4142-99d2-70e8f6645153');\n",
              "          const dataTable =\n",
              "            await google.colab.kernel.invokeFunction('convertToInteractive',\n",
              "                                                     [key], {});\n",
              "          if (!dataTable) return;\n",
              "\n",
              "          const docLinkHtml = 'Like what you see? Visit the ' +\n",
              "            '<a target=\"_blank\" href=https://colab.research.google.com/notebooks/data_table.ipynb>data table notebook</a>'\n",
              "            + ' to learn more about interactive tables.';\n",
              "          element.innerHTML = '';\n",
              "          dataTable['output_type'] = 'display_data';\n",
              "          await google.colab.output.renderOutput(dataTable, element);\n",
              "          const docLink = document.createElement('div');\n",
              "          docLink.innerHTML = docLinkHtml;\n",
              "          element.appendChild(docLink);\n",
              "        }\n",
              "      </script>\n",
              "    </div>\n",
              "  </div>\n",
              "  "
            ]
          },
          "metadata": {},
          "execution_count": 5
        }
      ]
    },
    {
      "cell_type": "markdown",
      "source": [
        "## 수치형 데이터 분석하기"
      ],
      "metadata": {
        "id": "PIKuXsncrr3z"
      }
    },
    {
      "cell_type": "markdown",
      "source": [
        "- 총합"
      ],
      "metadata": {
        "id": "nnaz2NDLrvK4"
      }
    },
    {
      "cell_type": "code",
      "source": [
        "df[\"fare\"].sum()"
      ],
      "metadata": {
        "colab": {
          "base_uri": "https://localhost:8080/"
        },
        "id": "0IxgETHJp_0B",
        "outputId": "17cd2307-97de-44cc-8232-a3d42acbc673"
      },
      "execution_count": null,
      "outputs": [
        {
          "output_type": "execute_result",
          "data": {
            "text/plain": [
              "43550.4869"
            ]
          },
          "metadata": {},
          "execution_count": 6
        }
      ]
    },
    {
      "cell_type": "markdown",
      "source": [
        "- 평균"
      ],
      "metadata": {
        "id": "h437-H6cr6k9"
      }
    },
    {
      "cell_type": "code",
      "source": [
        "df[\"fare\"].mean()"
      ],
      "metadata": {
        "colab": {
          "base_uri": "https://localhost:8080/"
        },
        "id": "bQdAnUQ0rxr_",
        "outputId": "fa8b05e0-e83a-456e-c97b-2c110e1a4010"
      },
      "execution_count": null,
      "outputs": [
        {
          "output_type": "execute_result",
          "data": {
            "text/plain": [
              "33.29547928134557"
            ]
          },
          "metadata": {},
          "execution_count": 7
        }
      ]
    },
    {
      "cell_type": "markdown",
      "source": [
        "- 중앙값"
      ],
      "metadata": {
        "id": "9oFFVaT2r-qd"
      }
    },
    {
      "cell_type": "code",
      "source": [
        "df[\"fare\"].median()"
      ],
      "metadata": {
        "colab": {
          "base_uri": "https://localhost:8080/"
        },
        "id": "eUWPUrXYr9uN",
        "outputId": "8fa87e4a-5328-43fc-e9ae-ed304bb75cd5"
      },
      "execution_count": null,
      "outputs": [
        {
          "output_type": "execute_result",
          "data": {
            "text/plain": [
              "14.4542"
            ]
          },
          "metadata": {},
          "execution_count": 8
        }
      ]
    },
    {
      "cell_type": "markdown",
      "source": [
        "- 분산, 표준편차"
      ],
      "metadata": {
        "id": "LqfjHc8Nsit9"
      }
    },
    {
      "cell_type": "code",
      "source": [
        "df[\"fare\"].var(), df[\"fare\"].std()"
      ],
      "metadata": {
        "colab": {
          "base_uri": "https://localhost:8080/"
        },
        "id": "kWhRSdLasA9Z",
        "outputId": "d3124a3a-a780-4a28-ebc7-6bfacac73393"
      },
      "execution_count": null,
      "outputs": [
        {
          "output_type": "execute_result",
          "data": {
            "text/plain": [
              "(2678.959737892891, 51.75866823917411)"
            ]
          },
          "metadata": {},
          "execution_count": 9
        }
      ]
    },
    {
      "cell_type": "markdown",
      "source": [
        "- 분위수 계산하기"
      ],
      "metadata": {
        "id": "yciHJfi4sxOV"
      }
    },
    {
      "cell_type": "code",
      "source": [
        "df[\"fare\"].quantile([0.25,0.5,0.75])"
      ],
      "metadata": {
        "colab": {
          "base_uri": "https://localhost:8080/"
        },
        "id": "mR-NyQtGspMG",
        "outputId": "50b8a02c-692d-4d85-cd88-d123a2aaa08c"
      },
      "execution_count": null,
      "outputs": [
        {
          "output_type": "execute_result",
          "data": {
            "text/plain": [
              "0.25     7.8958\n",
              "0.50    14.4542\n",
              "0.75    31.2750\n",
              "Name: fare, dtype: float64"
            ]
          },
          "metadata": {},
          "execution_count": 10
        }
      ]
    },
    {
      "cell_type": "markdown",
      "source": [
        "- 왜도(Skewness)\n",
        "    - 데이터 분포의 비대칭도를 나타내는 통계랑\n",
        "    - 분포가 오른쪽으로 치우쳐져 있고, 왼쪽으로 긴꼬리를 가진 경우 왜도는 음수\n",
        "    - 분포가 왼쪽으로 치우쳐져 있고, 오른쪽으로 가진 경우 왜도는 양수\n",
        "    - 정규분포와 같이 좌우 대칭인 경우 왜도는 0에 가까워짐"
      ],
      "metadata": {
        "id": "kDgyjySMtT4K"
      }
    },
    {
      "cell_type": "markdown",
      "source": [
        "![다운로드.jfif](data:image/jpeg;base64,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)"
      ],
      "metadata": {
        "id": "PgBsuTKPMoPv"
      }
    },
    {
      "cell_type": "code",
      "source": [
        "df[\"fare\"].skew()"
      ],
      "metadata": {
        "colab": {
          "base_uri": "https://localhost:8080/"
        },
        "id": "IuFy7Ub0s5su",
        "outputId": "c6a56bb1-3a84-4eea-ba72-47d04bcbbe16"
      },
      "execution_count": null,
      "outputs": [
        {
          "output_type": "execute_result",
          "data": {
            "text/plain": [
              "4.367709134122922"
            ]
          },
          "metadata": {},
          "execution_count": 11
        }
      ]
    },
    {
      "cell_type": "markdown",
      "source": [
        "- 상관계수 `corr()`\n",
        "    - 칼 피어슨(Karl Pearson)이 개발한 상관계수\n",
        "    - 두개의 수치형 변수의 변화가 연관되는 정도\n",
        "    - +1 ~ -1 사이의 값을 가짐\n",
        "    - +1에 가까울수록 양의 상관관계\n",
        "    - -1에 가까울수록 음의 상관관계\n",
        "    - 0에 가까울수록 상관관계 X"
      ],
      "metadata": {
        "id": "a3pUODh6_zHa"
      }
    },
    {
      "cell_type": "code",
      "source": [
        "cols = [\"survived\",\"age\",\"sibsp\",\"parch\",\"fare\"]\n",
        "df[cols].corr()"
      ],
      "metadata": {
        "colab": {
          "base_uri": "https://localhost:8080/",
          "height": 206
        },
        "id": "OBJUY3pFuSsC",
        "outputId": "a2161a8d-6ba6-47a8-e79f-9713e419671e"
      },
      "execution_count": null,
      "outputs": [
        {
          "output_type": "execute_result",
          "data": {
            "text/plain": [
              "          survived       age     sibsp     parch      fare\n",
              "survived  1.000000 -0.053695  0.002370  0.108919  0.233622\n",
              "age      -0.053695  1.000000 -0.243699 -0.150917  0.178740\n",
              "sibsp     0.002370 -0.243699  1.000000  0.373587  0.160238\n",
              "parch     0.108919 -0.150917  0.373587  1.000000  0.221539\n",
              "fare      0.233622  0.178740  0.160238  0.221539  1.000000"
            ],
            "text/html": [
              "\n",
              "  <div id=\"df-14c7f7e5-6bf2-4a62-a585-68dfa8b8f083\">\n",
              "    <div class=\"colab-df-container\">\n",
              "      <div>\n",
              "<style scoped>\n",
              "    .dataframe tbody tr th:only-of-type {\n",
              "        vertical-align: middle;\n",
              "    }\n",
              "\n",
              "    .dataframe tbody tr th {\n",
              "        vertical-align: top;\n",
              "    }\n",
              "\n",
              "    .dataframe thead th {\n",
              "        text-align: right;\n",
              "    }\n",
              "</style>\n",
              "<table border=\"1\" class=\"dataframe\">\n",
              "  <thead>\n",
              "    <tr style=\"text-align: right;\">\n",
              "      <th></th>\n",
              "      <th>survived</th>\n",
              "      <th>age</th>\n",
              "      <th>sibsp</th>\n",
              "      <th>parch</th>\n",
              "      <th>fare</th>\n",
              "    </tr>\n",
              "  </thead>\n",
              "  <tbody>\n",
              "    <tr>\n",
              "      <th>survived</th>\n",
              "      <td>1.000000</td>\n",
              "      <td>-0.053695</td>\n",
              "      <td>0.002370</td>\n",
              "      <td>0.108919</td>\n",
              "      <td>0.233622</td>\n",
              "    </tr>\n",
              "    <tr>\n",
              "      <th>age</th>\n",
              "      <td>-0.053695</td>\n",
              "      <td>1.000000</td>\n",
              "      <td>-0.243699</td>\n",
              "      <td>-0.150917</td>\n",
              "      <td>0.178740</td>\n",
              "    </tr>\n",
              "    <tr>\n",
              "      <th>sibsp</th>\n",
              "      <td>0.002370</td>\n",
              "      <td>-0.243699</td>\n",
              "      <td>1.000000</td>\n",
              "      <td>0.373587</td>\n",
              "      <td>0.160238</td>\n",
              "    </tr>\n",
              "    <tr>\n",
              "      <th>parch</th>\n",
              "      <td>0.108919</td>\n",
              "      <td>-0.150917</td>\n",
              "      <td>0.373587</td>\n",
              "      <td>1.000000</td>\n",
              "      <td>0.221539</td>\n",
              "    </tr>\n",
              "    <tr>\n",
              "      <th>fare</th>\n",
              "      <td>0.233622</td>\n",
              "      <td>0.178740</td>\n",
              "      <td>0.160238</td>\n",
              "      <td>0.221539</td>\n",
              "      <td>1.000000</td>\n",
              "    </tr>\n",
              "  </tbody>\n",
              "</table>\n",
              "</div>\n",
              "      <button class=\"colab-df-convert\" onclick=\"convertToInteractive('df-14c7f7e5-6bf2-4a62-a585-68dfa8b8f083')\"\n",
              "              title=\"Convert this dataframe to an interactive table.\"\n",
              "              style=\"display:none;\">\n",
              "        \n",
              "  <svg xmlns=\"http://www.w3.org/2000/svg\" height=\"24px\"viewBox=\"0 0 24 24\"\n",
              "       width=\"24px\">\n",
              "    <path d=\"M0 0h24v24H0V0z\" fill=\"none\"/>\n",
              "    <path d=\"M18.56 5.44l.94 2.06.94-2.06 2.06-.94-2.06-.94-.94-2.06-.94 2.06-2.06.94zm-11 1L8.5 8.5l.94-2.06 2.06-.94-2.06-.94L8.5 2.5l-.94 2.06-2.06.94zm10 10l.94 2.06.94-2.06 2.06-.94-2.06-.94-.94-2.06-.94 2.06-2.06.94z\"/><path d=\"M17.41 7.96l-1.37-1.37c-.4-.4-.92-.59-1.43-.59-.52 0-1.04.2-1.43.59L10.3 9.45l-7.72 7.72c-.78.78-.78 2.05 0 2.83L4 21.41c.39.39.9.59 1.41.59.51 0 1.02-.2 1.41-.59l7.78-7.78 2.81-2.81c.8-.78.8-2.07 0-2.86zM5.41 20L4 18.59l7.72-7.72 1.47 1.35L5.41 20z\"/>\n",
              "  </svg>\n",
              "      </button>\n",
              "      \n",
              "  <style>\n",
              "    .colab-df-container {\n",
              "      display:flex;\n",
              "      flex-wrap:wrap;\n",
              "      gap: 12px;\n",
              "    }\n",
              "\n",
              "    .colab-df-convert {\n",
              "      background-color: #E8F0FE;\n",
              "      border: none;\n",
              "      border-radius: 50%;\n",
              "      cursor: pointer;\n",
              "      display: none;\n",
              "      fill: #1967D2;\n",
              "      height: 32px;\n",
              "      padding: 0 0 0 0;\n",
              "      width: 32px;\n",
              "    }\n",
              "\n",
              "    .colab-df-convert:hover {\n",
              "      background-color: #E2EBFA;\n",
              "      box-shadow: 0px 1px 2px rgba(60, 64, 67, 0.3), 0px 1px 3px 1px rgba(60, 64, 67, 0.15);\n",
              "      fill: #174EA6;\n",
              "    }\n",
              "\n",
              "    [theme=dark] .colab-df-convert {\n",
              "      background-color: #3B4455;\n",
              "      fill: #D2E3FC;\n",
              "    }\n",
              "\n",
              "    [theme=dark] .colab-df-convert:hover {\n",
              "      background-color: #434B5C;\n",
              "      box-shadow: 0px 1px 3px 1px rgba(0, 0, 0, 0.15);\n",
              "      filter: drop-shadow(0px 1px 2px rgba(0, 0, 0, 0.3));\n",
              "      fill: #FFFFFF;\n",
              "    }\n",
              "  </style>\n",
              "\n",
              "      <script>\n",
              "        const buttonEl =\n",
              "          document.querySelector('#df-14c7f7e5-6bf2-4a62-a585-68dfa8b8f083 button.colab-df-convert');\n",
              "        buttonEl.style.display =\n",
              "          google.colab.kernel.accessAllowed ? 'block' : 'none';\n",
              "\n",
              "        async function convertToInteractive(key) {\n",
              "          const element = document.querySelector('#df-14c7f7e5-6bf2-4a62-a585-68dfa8b8f083');\n",
              "          const dataTable =\n",
              "            await google.colab.kernel.invokeFunction('convertToInteractive',\n",
              "                                                     [key], {});\n",
              "          if (!dataTable) return;\n",
              "\n",
              "          const docLinkHtml = 'Like what you see? Visit the ' +\n",
              "            '<a target=\"_blank\" href=https://colab.research.google.com/notebooks/data_table.ipynb>data table notebook</a>'\n",
              "            + ' to learn more about interactive tables.';\n",
              "          element.innerHTML = '';\n",
              "          dataTable['output_type'] = 'display_data';\n",
              "          await google.colab.output.renderOutput(dataTable, element);\n",
              "          const docLink = document.createElement('div');\n",
              "          docLink.innerHTML = docLinkHtml;\n",
              "          element.appendChild(docLink);\n",
              "        }\n",
              "      </script>\n",
              "    </div>\n",
              "  </div>\n",
              "  "
            ]
          },
          "metadata": {},
          "execution_count": 12
        }
      ]
    },
    {
      "cell_type": "markdown",
      "source": [
        "# 범주형 데이터 분석하기"
      ],
      "metadata": {
        "id": "KpXFDZkiB3Dg"
      }
    },
    {
      "cell_type": "markdown",
      "source": [
        "- 고유값 개수보기"
      ],
      "metadata": {
        "id": "ktqmX-AAB4zD"
      }
    },
    {
      "cell_type": "code",
      "source": [
        "df[\"embarked\"].nunique() # 원핫인코딩"
      ],
      "metadata": {
        "colab": {
          "base_uri": "https://localhost:8080/"
        },
        "id": "Nl38OMKNA8Hn",
        "outputId": "ed9466c6-6e4c-4417-88c9-efffffaab191"
      },
      "execution_count": null,
      "outputs": [
        {
          "output_type": "execute_result",
          "data": {
            "text/plain": [
              "3"
            ]
          },
          "metadata": {},
          "execution_count": 13
        }
      ]
    },
    {
      "cell_type": "markdown",
      "source": [
        "- 고유값 확인"
      ],
      "metadata": {
        "id": "Y7HW4yuUCQ3h"
      }
    },
    {
      "cell_type": "code",
      "source": [
        "# 유니크한 값 확인\n",
        "df[\"embarked\"].unique()"
      ],
      "metadata": {
        "colab": {
          "base_uri": "https://localhost:8080/"
        },
        "id": "H-MSJSfoB-Yn",
        "outputId": "86d7e404-b20b-4f40-ba4f-25fac737b023"
      },
      "execution_count": null,
      "outputs": [
        {
          "output_type": "execute_result",
          "data": {
            "text/plain": [
              "array(['S', 'C', 'Q', nan], dtype=object)"
            ]
          },
          "metadata": {},
          "execution_count": 14
        }
      ]
    },
    {
      "cell_type": "markdown",
      "source": [
        "- 최빈값"
      ],
      "metadata": {
        "id": "EylxCmjUCNas"
      }
    },
    {
      "cell_type": "code",
      "source": [
        "df[\"embarked\"].mode()"
      ],
      "metadata": {
        "colab": {
          "base_uri": "https://localhost:8080/"
        },
        "id": "GMq3khm7CKvo",
        "outputId": "0bda61e6-cf73-4cdd-a6c6-d675762c2efc"
      },
      "execution_count": null,
      "outputs": [
        {
          "output_type": "execute_result",
          "data": {
            "text/plain": [
              "0    S\n",
              "dtype: object"
            ]
          },
          "metadata": {},
          "execution_count": 15
        }
      ]
    },
    {
      "cell_type": "markdown",
      "source": [
        "- 범주별 개수보기"
      ],
      "metadata": {
        "id": "I3Ns6jTXCdYg"
      }
    },
    {
      "cell_type": "code",
      "source": [
        "df[\"embarked\"].value_counts()"
      ],
      "metadata": {
        "colab": {
          "base_uri": "https://localhost:8080/"
        },
        "id": "OPv8kLnPCUxh",
        "outputId": "c3a143ef-1182-4014-e75f-651c1783abb0"
      },
      "execution_count": null,
      "outputs": [
        {
          "output_type": "execute_result",
          "data": {
            "text/plain": [
              "S    914\n",
              "C    270\n",
              "Q    123\n",
              "Name: embarked, dtype: int64"
            ]
          },
          "metadata": {},
          "execution_count": 16
        }
      ]
    },
    {
      "cell_type": "code",
      "source": [
        "# 비율 확인\n",
        "df[\"embarked\"].value_counts(normalize=True) "
      ],
      "metadata": {
        "colab": {
          "base_uri": "https://localhost:8080/"
        },
        "id": "BvO4Kb8kCgWn",
        "outputId": "cf96ceb6-c0c3-4136-da11-3703b9119795"
      },
      "execution_count": null,
      "outputs": [
        {
          "output_type": "execute_result",
          "data": {
            "text/plain": [
              "S    0.699311\n",
              "C    0.206580\n",
              "Q    0.094109\n",
              "Name: embarked, dtype: float64"
            ]
          },
          "metadata": {},
          "execution_count": 17
        }
      ]
    },
    {
      "cell_type": "code",
      "source": [
        "# 객실의 유니크한 개수\n",
        "df[\"cabin\"].nunique()"
      ],
      "metadata": {
        "colab": {
          "base_uri": "https://localhost:8080/"
        },
        "id": "pe9PzdSJCnxO",
        "outputId": "acc5670a-947c-4481-eada-5bda8c9d4442"
      },
      "execution_count": null,
      "outputs": [
        {
          "output_type": "execute_result",
          "data": {
            "text/plain": [
              "186"
            ]
          },
          "metadata": {},
          "execution_count": 18
        }
      ]
    },
    {
      "cell_type": "code",
      "source": [
        "df[\"cabin\"].value_counts().head(10)"
      ],
      "metadata": {
        "colab": {
          "base_uri": "https://localhost:8080/"
        },
        "id": "LKPCJvqCCuOE",
        "outputId": "f33d2128-a19f-4818-9509-afec7bec03df"
      },
      "execution_count": null,
      "outputs": [
        {
          "output_type": "execute_result",
          "data": {
            "text/plain": [
              "C23 C25 C27        6\n",
              "G6                 5\n",
              "B57 B59 B63 B66    5\n",
              "C22 C26            4\n",
              "F33                4\n",
              "F2                 4\n",
              "B96 B98            4\n",
              "C78                4\n",
              "F4                 4\n",
              "D                  4\n",
              "Name: cabin, dtype: int64"
            ]
          },
          "metadata": {},
          "execution_count": 21
        }
      ]
    },
    {
      "cell_type": "markdown",
      "source": [
        "- 두 범주형 간의 관계 확인"
      ],
      "metadata": {
        "id": "HGY056IlDkGz"
      }
    },
    {
      "cell_type": "code",
      "source": [
        "pd.crosstab(df[\"gender\"],df[\"survived\"],margins = True)"
      ],
      "metadata": {
        "colab": {
          "base_uri": "https://localhost:8080/",
          "height": 175
        },
        "id": "t0ac6v-HDACd",
        "outputId": "244e6697-9b92-4840-e9c9-757c02718a30"
      },
      "execution_count": null,
      "outputs": [
        {
          "output_type": "execute_result",
          "data": {
            "text/plain": [
              "survived    0    1   All\n",
              "gender                  \n",
              "female     81  385   466\n",
              "male      734  109   843\n",
              "All       815  494  1309"
            ],
            "text/html": [
              "\n",
              "  <div id=\"df-0436b181-ef15-4021-a345-7449037bcf94\">\n",
              "    <div class=\"colab-df-container\">\n",
              "      <div>\n",
              "<style scoped>\n",
              "    .dataframe tbody tr th:only-of-type {\n",
              "        vertical-align: middle;\n",
              "    }\n",
              "\n",
              "    .dataframe tbody tr th {\n",
              "        vertical-align: top;\n",
              "    }\n",
              "\n",
              "    .dataframe thead th {\n",
              "        text-align: right;\n",
              "    }\n",
              "</style>\n",
              "<table border=\"1\" class=\"dataframe\">\n",
              "  <thead>\n",
              "    <tr style=\"text-align: right;\">\n",
              "      <th>survived</th>\n",
              "      <th>0</th>\n",
              "      <th>1</th>\n",
              "      <th>All</th>\n",
              "    </tr>\n",
              "    <tr>\n",
              "      <th>gender</th>\n",
              "      <th></th>\n",
              "      <th></th>\n",
              "      <th></th>\n",
              "    </tr>\n",
              "  </thead>\n",
              "  <tbody>\n",
              "    <tr>\n",
              "      <th>female</th>\n",
              "      <td>81</td>\n",
              "      <td>385</td>\n",
              "      <td>466</td>\n",
              "    </tr>\n",
              "    <tr>\n",
              "      <th>male</th>\n",
              "      <td>734</td>\n",
              "      <td>109</td>\n",
              "      <td>843</td>\n",
              "    </tr>\n",
              "    <tr>\n",
              "      <th>All</th>\n",
              "      <td>815</td>\n",
              "      <td>494</td>\n",
              "      <td>1309</td>\n",
              "    </tr>\n",
              "  </tbody>\n",
              "</table>\n",
              "</div>\n",
              "      <button class=\"colab-df-convert\" onclick=\"convertToInteractive('df-0436b181-ef15-4021-a345-7449037bcf94')\"\n",
              "              title=\"Convert this dataframe to an interactive table.\"\n",
              "              style=\"display:none;\">\n",
              "        \n",
              "  <svg xmlns=\"http://www.w3.org/2000/svg\" height=\"24px\"viewBox=\"0 0 24 24\"\n",
              "       width=\"24px\">\n",
              "    <path d=\"M0 0h24v24H0V0z\" fill=\"none\"/>\n",
              "    <path d=\"M18.56 5.44l.94 2.06.94-2.06 2.06-.94-2.06-.94-.94-2.06-.94 2.06-2.06.94zm-11 1L8.5 8.5l.94-2.06 2.06-.94-2.06-.94L8.5 2.5l-.94 2.06-2.06.94zm10 10l.94 2.06.94-2.06 2.06-.94-2.06-.94-.94-2.06-.94 2.06-2.06.94z\"/><path d=\"M17.41 7.96l-1.37-1.37c-.4-.4-.92-.59-1.43-.59-.52 0-1.04.2-1.43.59L10.3 9.45l-7.72 7.72c-.78.78-.78 2.05 0 2.83L4 21.41c.39.39.9.59 1.41.59.51 0 1.02-.2 1.41-.59l7.78-7.78 2.81-2.81c.8-.78.8-2.07 0-2.86zM5.41 20L4 18.59l7.72-7.72 1.47 1.35L5.41 20z\"/>\n",
              "  </svg>\n",
              "      </button>\n",
              "      \n",
              "  <style>\n",
              "    .colab-df-container {\n",
              "      display:flex;\n",
              "      flex-wrap:wrap;\n",
              "      gap: 12px;\n",
              "    }\n",
              "\n",
              "    .colab-df-convert {\n",
              "      background-color: #E8F0FE;\n",
              "      border: none;\n",
              "      border-radius: 50%;\n",
              "      cursor: pointer;\n",
              "      display: none;\n",
              "      fill: #1967D2;\n",
              "      height: 32px;\n",
              "      padding: 0 0 0 0;\n",
              "      width: 32px;\n",
              "    }\n",
              "\n",
              "    .colab-df-convert:hover {\n",
              "      background-color: #E2EBFA;\n",
              "      box-shadow: 0px 1px 2px rgba(60, 64, 67, 0.3), 0px 1px 3px 1px rgba(60, 64, 67, 0.15);\n",
              "      fill: #174EA6;\n",
              "    }\n",
              "\n",
              "    [theme=dark] .colab-df-convert {\n",
              "      background-color: #3B4455;\n",
              "      fill: #D2E3FC;\n",
              "    }\n",
              "\n",
              "    [theme=dark] .colab-df-convert:hover {\n",
              "      background-color: #434B5C;\n",
              "      box-shadow: 0px 1px 3px 1px rgba(0, 0, 0, 0.15);\n",
              "      filter: drop-shadow(0px 1px 2px rgba(0, 0, 0, 0.3));\n",
              "      fill: #FFFFFF;\n",
              "    }\n",
              "  </style>\n",
              "\n",
              "      <script>\n",
              "        const buttonEl =\n",
              "          document.querySelector('#df-0436b181-ef15-4021-a345-7449037bcf94 button.colab-df-convert');\n",
              "        buttonEl.style.display =\n",
              "          google.colab.kernel.accessAllowed ? 'block' : 'none';\n",
              "\n",
              "        async function convertToInteractive(key) {\n",
              "          const element = document.querySelector('#df-0436b181-ef15-4021-a345-7449037bcf94');\n",
              "          const dataTable =\n",
              "            await google.colab.kernel.invokeFunction('convertToInteractive',\n",
              "                                                     [key], {});\n",
              "          if (!dataTable) return;\n",
              "\n",
              "          const docLinkHtml = 'Like what you see? Visit the ' +\n",
              "            '<a target=\"_blank\" href=https://colab.research.google.com/notebooks/data_table.ipynb>data table notebook</a>'\n",
              "            + ' to learn more about interactive tables.';\n",
              "          element.innerHTML = '';\n",
              "          dataTable['output_type'] = 'display_data';\n",
              "          await google.colab.output.renderOutput(dataTable, element);\n",
              "          const docLink = document.createElement('div');\n",
              "          docLink.innerHTML = docLinkHtml;\n",
              "          element.appendChild(docLink);\n",
              "        }\n",
              "      </script>\n",
              "    </div>\n",
              "  </div>\n",
              "  "
            ]
          },
          "metadata": {},
          "execution_count": 25
        }
      ]
    },
    {
      "cell_type": "code",
      "source": [
        "pd.crosstab(df[\"gender\"],df[\"survived\"],margins = True, normalize = \"index\")"
      ],
      "metadata": {
        "colab": {
          "base_uri": "https://localhost:8080/",
          "height": 175
        },
        "id": "2_7r8ynpDvPf",
        "outputId": "935bbbf9-0bcf-4d38-ad5e-c94763dd4cb3"
      },
      "execution_count": null,
      "outputs": [
        {
          "output_type": "execute_result",
          "data": {
            "text/plain": [
              "survived         0         1\n",
              "gender                      \n",
              "female    0.173820  0.826180\n",
              "male      0.870700  0.129300\n",
              "All       0.622613  0.377387"
            ],
            "text/html": [
              "\n",
              "  <div id=\"df-2c23beec-64a7-427c-9185-c0e28c4331ed\">\n",
              "    <div class=\"colab-df-container\">\n",
              "      <div>\n",
              "<style scoped>\n",
              "    .dataframe tbody tr th:only-of-type {\n",
              "        vertical-align: middle;\n",
              "    }\n",
              "\n",
              "    .dataframe tbody tr th {\n",
              "        vertical-align: top;\n",
              "    }\n",
              "\n",
              "    .dataframe thead th {\n",
              "        text-align: right;\n",
              "    }\n",
              "</style>\n",
              "<table border=\"1\" class=\"dataframe\">\n",
              "  <thead>\n",
              "    <tr style=\"text-align: right;\">\n",
              "      <th>survived</th>\n",
              "      <th>0</th>\n",
              "      <th>1</th>\n",
              "    </tr>\n",
              "    <tr>\n",
              "      <th>gender</th>\n",
              "      <th></th>\n",
              "      <th></th>\n",
              "    </tr>\n",
              "  </thead>\n",
              "  <tbody>\n",
              "    <tr>\n",
              "      <th>female</th>\n",
              "      <td>0.173820</td>\n",
              "      <td>0.826180</td>\n",
              "    </tr>\n",
              "    <tr>\n",
              "      <th>male</th>\n",
              "      <td>0.870700</td>\n",
              "      <td>0.129300</td>\n",
              "    </tr>\n",
              "    <tr>\n",
              "      <th>All</th>\n",
              "      <td>0.622613</td>\n",
              "      <td>0.377387</td>\n",
              "    </tr>\n",
              "  </tbody>\n",
              "</table>\n",
              "</div>\n",
              "      <button class=\"colab-df-convert\" onclick=\"convertToInteractive('df-2c23beec-64a7-427c-9185-c0e28c4331ed')\"\n",
              "              title=\"Convert this dataframe to an interactive table.\"\n",
              "              style=\"display:none;\">\n",
              "        \n",
              "  <svg xmlns=\"http://www.w3.org/2000/svg\" height=\"24px\"viewBox=\"0 0 24 24\"\n",
              "       width=\"24px\">\n",
              "    <path d=\"M0 0h24v24H0V0z\" fill=\"none\"/>\n",
              "    <path d=\"M18.56 5.44l.94 2.06.94-2.06 2.06-.94-2.06-.94-.94-2.06-.94 2.06-2.06.94zm-11 1L8.5 8.5l.94-2.06 2.06-.94-2.06-.94L8.5 2.5l-.94 2.06-2.06.94zm10 10l.94 2.06.94-2.06 2.06-.94-2.06-.94-.94-2.06-.94 2.06-2.06.94z\"/><path d=\"M17.41 7.96l-1.37-1.37c-.4-.4-.92-.59-1.43-.59-.52 0-1.04.2-1.43.59L10.3 9.45l-7.72 7.72c-.78.78-.78 2.05 0 2.83L4 21.41c.39.39.9.59 1.41.59.51 0 1.02-.2 1.41-.59l7.78-7.78 2.81-2.81c.8-.78.8-2.07 0-2.86zM5.41 20L4 18.59l7.72-7.72 1.47 1.35L5.41 20z\"/>\n",
              "  </svg>\n",
              "      </button>\n",
              "      \n",
              "  <style>\n",
              "    .colab-df-container {\n",
              "      display:flex;\n",
              "      flex-wrap:wrap;\n",
              "      gap: 12px;\n",
              "    }\n",
              "\n",
              "    .colab-df-convert {\n",
              "      background-color: #E8F0FE;\n",
              "      border: none;\n",
              "      border-radius: 50%;\n",
              "      cursor: pointer;\n",
              "      display: none;\n",
              "      fill: #1967D2;\n",
              "      height: 32px;\n",
              "      padding: 0 0 0 0;\n",
              "      width: 32px;\n",
              "    }\n",
              "\n",
              "    .colab-df-convert:hover {\n",
              "      background-color: #E2EBFA;\n",
              "      box-shadow: 0px 1px 2px rgba(60, 64, 67, 0.3), 0px 1px 3px 1px rgba(60, 64, 67, 0.15);\n",
              "      fill: #174EA6;\n",
              "    }\n",
              "\n",
              "    [theme=dark] .colab-df-convert {\n",
              "      background-color: #3B4455;\n",
              "      fill: #D2E3FC;\n",
              "    }\n",
              "\n",
              "    [theme=dark] .colab-df-convert:hover {\n",
              "      background-color: #434B5C;\n",
              "      box-shadow: 0px 1px 3px 1px rgba(0, 0, 0, 0.15);\n",
              "      filter: drop-shadow(0px 1px 2px rgba(0, 0, 0, 0.3));\n",
              "      fill: #FFFFFF;\n",
              "    }\n",
              "  </style>\n",
              "\n",
              "      <script>\n",
              "        const buttonEl =\n",
              "          document.querySelector('#df-2c23beec-64a7-427c-9185-c0e28c4331ed button.colab-df-convert');\n",
              "        buttonEl.style.display =\n",
              "          google.colab.kernel.accessAllowed ? 'block' : 'none';\n",
              "\n",
              "        async function convertToInteractive(key) {\n",
              "          const element = document.querySelector('#df-2c23beec-64a7-427c-9185-c0e28c4331ed');\n",
              "          const dataTable =\n",
              "            await google.colab.kernel.invokeFunction('convertToInteractive',\n",
              "                                                     [key], {});\n",
              "          if (!dataTable) return;\n",
              "\n",
              "          const docLinkHtml = 'Like what you see? Visit the ' +\n",
              "            '<a target=\"_blank\" href=https://colab.research.google.com/notebooks/data_table.ipynb>data table notebook</a>'\n",
              "            + ' to learn more about interactive tables.';\n",
              "          element.innerHTML = '';\n",
              "          dataTable['output_type'] = 'display_data';\n",
              "          await google.colab.output.renderOutput(dataTable, element);\n",
              "          const docLink = document.createElement('div');\n",
              "          docLink.innerHTML = docLinkHtml;\n",
              "          element.appendChild(docLink);\n",
              "        }\n",
              "      </script>\n",
              "    </div>\n",
              "  </div>\n",
              "  "
            ]
          },
          "metadata": {},
          "execution_count": 28
        }
      ]
    },
    {
      "cell_type": "code",
      "source": [
        "pd.crosstab(df[\"pclass\"],df[\"embarked\"],margins=True, normalize=\"index\")"
      ],
      "metadata": {
        "colab": {
          "base_uri": "https://localhost:8080/",
          "height": 206
        },
        "id": "aBvZUl72ELSg",
        "outputId": "1e57d198-0c22-4157-ee7d-653afe9d292f"
      },
      "execution_count": null,
      "outputs": [
        {
          "output_type": "execute_result",
          "data": {
            "text/plain": [
              "embarked         C         Q         S\n",
              "pclass                                \n",
              "1         0.439252  0.009346  0.551402\n",
              "2         0.101083  0.025271  0.873646\n",
              "3         0.142454  0.159379  0.698166\n",
              "All       0.206580  0.094109  0.699311"
            ],
            "text/html": [
              "\n",
              "  <div id=\"df-6e7634e4-a699-46d7-a97c-90755c87d113\">\n",
              "    <div class=\"colab-df-container\">\n",
              "      <div>\n",
              "<style scoped>\n",
              "    .dataframe tbody tr th:only-of-type {\n",
              "        vertical-align: middle;\n",
              "    }\n",
              "\n",
              "    .dataframe tbody tr th {\n",
              "        vertical-align: top;\n",
              "    }\n",
              "\n",
              "    .dataframe thead th {\n",
              "        text-align: right;\n",
              "    }\n",
              "</style>\n",
              "<table border=\"1\" class=\"dataframe\">\n",
              "  <thead>\n",
              "    <tr style=\"text-align: right;\">\n",
              "      <th>embarked</th>\n",
              "      <th>C</th>\n",
              "      <th>Q</th>\n",
              "      <th>S</th>\n",
              "    </tr>\n",
              "    <tr>\n",
              "      <th>pclass</th>\n",
              "      <th></th>\n",
              "      <th></th>\n",
              "      <th></th>\n",
              "    </tr>\n",
              "  </thead>\n",
              "  <tbody>\n",
              "    <tr>\n",
              "      <th>1</th>\n",
              "      <td>0.439252</td>\n",
              "      <td>0.009346</td>\n",
              "      <td>0.551402</td>\n",
              "    </tr>\n",
              "    <tr>\n",
              "      <th>2</th>\n",
              "      <td>0.101083</td>\n",
              "      <td>0.025271</td>\n",
              "      <td>0.873646</td>\n",
              "    </tr>\n",
              "    <tr>\n",
              "      <th>3</th>\n",
              "      <td>0.142454</td>\n",
              "      <td>0.159379</td>\n",
              "      <td>0.698166</td>\n",
              "    </tr>\n",
              "    <tr>\n",
              "      <th>All</th>\n",
              "      <td>0.206580</td>\n",
              "      <td>0.094109</td>\n",
              "      <td>0.699311</td>\n",
              "    </tr>\n",
              "  </tbody>\n",
              "</table>\n",
              "</div>\n",
              "      <button class=\"colab-df-convert\" onclick=\"convertToInteractive('df-6e7634e4-a699-46d7-a97c-90755c87d113')\"\n",
              "              title=\"Convert this dataframe to an interactive table.\"\n",
              "              style=\"display:none;\">\n",
              "        \n",
              "  <svg xmlns=\"http://www.w3.org/2000/svg\" height=\"24px\"viewBox=\"0 0 24 24\"\n",
              "       width=\"24px\">\n",
              "    <path d=\"M0 0h24v24H0V0z\" fill=\"none\"/>\n",
              "    <path d=\"M18.56 5.44l.94 2.06.94-2.06 2.06-.94-2.06-.94-.94-2.06-.94 2.06-2.06.94zm-11 1L8.5 8.5l.94-2.06 2.06-.94-2.06-.94L8.5 2.5l-.94 2.06-2.06.94zm10 10l.94 2.06.94-2.06 2.06-.94-2.06-.94-.94-2.06-.94 2.06-2.06.94z\"/><path d=\"M17.41 7.96l-1.37-1.37c-.4-.4-.92-.59-1.43-.59-.52 0-1.04.2-1.43.59L10.3 9.45l-7.72 7.72c-.78.78-.78 2.05 0 2.83L4 21.41c.39.39.9.59 1.41.59.51 0 1.02-.2 1.41-.59l7.78-7.78 2.81-2.81c.8-.78.8-2.07 0-2.86zM5.41 20L4 18.59l7.72-7.72 1.47 1.35L5.41 20z\"/>\n",
              "  </svg>\n",
              "      </button>\n",
              "      \n",
              "  <style>\n",
              "    .colab-df-container {\n",
              "      display:flex;\n",
              "      flex-wrap:wrap;\n",
              "      gap: 12px;\n",
              "    }\n",
              "\n",
              "    .colab-df-convert {\n",
              "      background-color: #E8F0FE;\n",
              "      border: none;\n",
              "      border-radius: 50%;\n",
              "      cursor: pointer;\n",
              "      display: none;\n",
              "      fill: #1967D2;\n",
              "      height: 32px;\n",
              "      padding: 0 0 0 0;\n",
              "      width: 32px;\n",
              "    }\n",
              "\n",
              "    .colab-df-convert:hover {\n",
              "      background-color: #E2EBFA;\n",
              "      box-shadow: 0px 1px 2px rgba(60, 64, 67, 0.3), 0px 1px 3px 1px rgba(60, 64, 67, 0.15);\n",
              "      fill: #174EA6;\n",
              "    }\n",
              "\n",
              "    [theme=dark] .colab-df-convert {\n",
              "      background-color: #3B4455;\n",
              "      fill: #D2E3FC;\n",
              "    }\n",
              "\n",
              "    [theme=dark] .colab-df-convert:hover {\n",
              "      background-color: #434B5C;\n",
              "      box-shadow: 0px 1px 3px 1px rgba(0, 0, 0, 0.15);\n",
              "      filter: drop-shadow(0px 1px 2px rgba(0, 0, 0, 0.3));\n",
              "      fill: #FFFFFF;\n",
              "    }\n",
              "  </style>\n",
              "\n",
              "      <script>\n",
              "        const buttonEl =\n",
              "          document.querySelector('#df-6e7634e4-a699-46d7-a97c-90755c87d113 button.colab-df-convert');\n",
              "        buttonEl.style.display =\n",
              "          google.colab.kernel.accessAllowed ? 'block' : 'none';\n",
              "\n",
              "        async function convertToInteractive(key) {\n",
              "          const element = document.querySelector('#df-6e7634e4-a699-46d7-a97c-90755c87d113');\n",
              "          const dataTable =\n",
              "            await google.colab.kernel.invokeFunction('convertToInteractive',\n",
              "                                                     [key], {});\n",
              "          if (!dataTable) return;\n",
              "\n",
              "          const docLinkHtml = 'Like what you see? Visit the ' +\n",
              "            '<a target=\"_blank\" href=https://colab.research.google.com/notebooks/data_table.ipynb>data table notebook</a>'\n",
              "            + ' to learn more about interactive tables.';\n",
              "          element.innerHTML = '';\n",
              "          dataTable['output_type'] = 'display_data';\n",
              "          await google.colab.output.renderOutput(dataTable, element);\n",
              "          const docLink = document.createElement('div');\n",
              "          docLink.innerHTML = docLinkHtml;\n",
              "          element.appendChild(docLink);\n",
              "        }\n",
              "      </script>\n",
              "    </div>\n",
              "  </div>\n",
              "  "
            ]
          },
          "metadata": {},
          "execution_count": 33
        }
      ]
    }
  ]
}